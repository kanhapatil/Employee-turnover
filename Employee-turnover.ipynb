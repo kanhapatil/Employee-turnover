{
 "cells": [
  {
   "cell_type": "markdown",
   "id": "23db5aa7",
   "metadata": {},
   "source": [
    "# Problem Statement\n",
    "- To predict whether an employee is going to leave the company in future or not ?\n",
    "\n",
    "## How will the company profit from this solution?\n",
    "- 1) After put the all input in our model then company can easily check which type of employees is going to exit or which one is stay\n",
    "- 2) And After Prediction Our HR can easily understand which type of employee is exit in future \n",
    "- 3) And they will easily understand the requirement of employee\n",
    "\n",
    "## Dataset description\n",
    "- Dataset Link : https://drive.google.com/drive/folders/1yCqG4x3z6SXttr1esje3-zFg9QU7osJY\n",
    "- The dataset folder contains the following files :\n",
    "- Employee-turnover.csv having rows 1470 x columns 29\n",
    "\n",
    "### Columns provided in the Dataset\n",
    "- 1) Employee Count\t\n",
    "- 2) Employee ID\t\n",
    "- 3) Department\t\n",
    "- 4) Job Role\t\n",
    "- 5) Gender\n",
    "- 6) Age\t\n",
    "- 7) Marital Status\t\n",
    "- 8) Education\t\n",
    "- 9) Education Field\t\n",
    "- 10) Business Travel\n",
    "- 11) Distance From Home (kms)\t\n",
    "- 12) Job Involvement\t\n",
    "- 13) Job Level\t\n",
    "- 14) Job Satisfaction\t\n",
    "- 15) Monthly Income (USD)\t\n",
    "- 16) Salary Hike (%)\t\n",
    "- 17) Stock Option Level\t\n",
    "- 18) Over Time\t\n",
    "- 19) No. of Companies Worked\t\n",
    "- 20) Total Working Years\n",
    "- 21) Years At Company\t\n",
    "- 22) Years In Current Role\t\n",
    "- 23) Years Since Last Promotion\t\n",
    "- 24) Years With Curr Manager\t\n",
    "- 25) Environment Satisfaction\t\n",
    "- 26) Training Times Last Year\t\n",
    "- 27) Work Life Balance\t\n",
    "- 28) Relationship Satisfaction\t\n",
    "- 29) Attrition (Yes/No)"
   ]
  },
  {
   "cell_type": "markdown",
   "id": "081243a6",
   "metadata": {},
   "source": [
    "***Importing Necessary Libraries***"
   ]
  },
  {
   "cell_type": "code",
   "execution_count": 1,
   "id": "81561de7",
   "metadata": {},
   "outputs": [],
   "source": [
    "import pandas as pd\n",
    "import numpy as np\n",
    "import matplotlib.pyplot as plt\n",
    "import seaborn as sns\n",
    "import warnings\n",
    "warnings.filterwarnings(\"ignore\")"
   ]
  },
  {
   "cell_type": "markdown",
   "id": "478325b0",
   "metadata": {},
   "source": [
    "Read the DataSet"
   ]
  },
  {
   "cell_type": "code",
   "execution_count": 2,
   "id": "b59b326a",
   "metadata": {},
   "outputs": [],
   "source": [
    "data = pd.read_csv(\"Employee-turnover.csv\")"
   ]
  },
  {
   "cell_type": "markdown",
   "id": "200c4c5c",
   "metadata": {},
   "source": [
    "Display all the columns"
   ]
  },
  {
   "cell_type": "code",
   "execution_count": 3,
   "id": "adfe9e70",
   "metadata": {},
   "outputs": [],
   "source": [
    "pd.set_option(\"display.max_columns\", None)"
   ]
  },
  {
   "cell_type": "code",
   "execution_count": 4,
   "id": "3a43cdaa",
   "metadata": {},
   "outputs": [
    {
     "data": {
      "text/html": [
       "<div>\n",
       "<style scoped>\n",
       "    .dataframe tbody tr th:only-of-type {\n",
       "        vertical-align: middle;\n",
       "    }\n",
       "\n",
       "    .dataframe tbody tr th {\n",
       "        vertical-align: top;\n",
       "    }\n",
       "\n",
       "    .dataframe thead th {\n",
       "        text-align: right;\n",
       "    }\n",
       "</style>\n",
       "<table border=\"1\" class=\"dataframe\">\n",
       "  <thead>\n",
       "    <tr style=\"text-align: right;\">\n",
       "      <th></th>\n",
       "      <th>Employee Count</th>\n",
       "      <th>Employee ID</th>\n",
       "      <th>Department</th>\n",
       "      <th>Job Role</th>\n",
       "      <th>Gender</th>\n",
       "      <th>Age</th>\n",
       "      <th>Marital Status</th>\n",
       "      <th>Education</th>\n",
       "      <th>Education Field</th>\n",
       "      <th>Business Travel</th>\n",
       "      <th>Distance From Home (kms)</th>\n",
       "      <th>Job Involvement</th>\n",
       "      <th>Job Level</th>\n",
       "      <th>Job Satisfaction</th>\n",
       "      <th>Monthly Income (USD)</th>\n",
       "      <th>Salary Hike (%)</th>\n",
       "      <th>Stock Option Level</th>\n",
       "      <th>Over Time</th>\n",
       "      <th>No. of Companies Worked</th>\n",
       "      <th>Total Working Years</th>\n",
       "      <th>Years At Company</th>\n",
       "      <th>Years In Current Role</th>\n",
       "      <th>Years Since Last Promotion</th>\n",
       "      <th>Years With Curr Manager</th>\n",
       "      <th>Environment Satisfaction</th>\n",
       "      <th>Training Times Last Year</th>\n",
       "      <th>Work Life Balance</th>\n",
       "      <th>Relationship Satisfaction</th>\n",
       "      <th>Attrition (Yes/No)</th>\n",
       "    </tr>\n",
       "  </thead>\n",
       "  <tbody>\n",
       "    <tr>\n",
       "      <th>0</th>\n",
       "      <td>1</td>\n",
       "      <td>1</td>\n",
       "      <td>Sales</td>\n",
       "      <td>Sales Executive</td>\n",
       "      <td>Female</td>\n",
       "      <td>41</td>\n",
       "      <td>Single</td>\n",
       "      <td>College</td>\n",
       "      <td>Life Sciences</td>\n",
       "      <td>Travel_Rarely</td>\n",
       "      <td>1</td>\n",
       "      <td>High</td>\n",
       "      <td>2</td>\n",
       "      <td>Very High</td>\n",
       "      <td>5993</td>\n",
       "      <td>11</td>\n",
       "      <td>0</td>\n",
       "      <td>Yes</td>\n",
       "      <td>2</td>\n",
       "      <td>8</td>\n",
       "      <td>6</td>\n",
       "      <td>4</td>\n",
       "      <td>0</td>\n",
       "      <td>5</td>\n",
       "      <td>Medium</td>\n",
       "      <td>0</td>\n",
       "      <td>Bad</td>\n",
       "      <td>Low</td>\n",
       "      <td>Yes</td>\n",
       "    </tr>\n",
       "    <tr>\n",
       "      <th>1</th>\n",
       "      <td>1</td>\n",
       "      <td>2</td>\n",
       "      <td>Research &amp; Development</td>\n",
       "      <td>Research Scientist</td>\n",
       "      <td>Male</td>\n",
       "      <td>49</td>\n",
       "      <td>Married</td>\n",
       "      <td>Below College</td>\n",
       "      <td>Life Sciences</td>\n",
       "      <td>Travel_Frequently</td>\n",
       "      <td>8</td>\n",
       "      <td>Medium</td>\n",
       "      <td>2</td>\n",
       "      <td>Medium</td>\n",
       "      <td>5130</td>\n",
       "      <td>23</td>\n",
       "      <td>1</td>\n",
       "      <td>No</td>\n",
       "      <td>1</td>\n",
       "      <td>10</td>\n",
       "      <td>10</td>\n",
       "      <td>7</td>\n",
       "      <td>1</td>\n",
       "      <td>7</td>\n",
       "      <td>High</td>\n",
       "      <td>3</td>\n",
       "      <td>Better</td>\n",
       "      <td>Very High</td>\n",
       "      <td>No</td>\n",
       "    </tr>\n",
       "    <tr>\n",
       "      <th>2</th>\n",
       "      <td>1</td>\n",
       "      <td>4</td>\n",
       "      <td>Research &amp; Development</td>\n",
       "      <td>Laboratory Technician</td>\n",
       "      <td>Male</td>\n",
       "      <td>37</td>\n",
       "      <td>Single</td>\n",
       "      <td>College</td>\n",
       "      <td>Other</td>\n",
       "      <td>Travel_Rarely</td>\n",
       "      <td>2</td>\n",
       "      <td>Medium</td>\n",
       "      <td>1</td>\n",
       "      <td>High</td>\n",
       "      <td>2090</td>\n",
       "      <td>15</td>\n",
       "      <td>0</td>\n",
       "      <td>Yes</td>\n",
       "      <td>6</td>\n",
       "      <td>7</td>\n",
       "      <td>0</td>\n",
       "      <td>0</td>\n",
       "      <td>0</td>\n",
       "      <td>0</td>\n",
       "      <td>Low</td>\n",
       "      <td>3</td>\n",
       "      <td>Bad</td>\n",
       "      <td>Medium</td>\n",
       "      <td>Yes</td>\n",
       "    </tr>\n",
       "    <tr>\n",
       "      <th>3</th>\n",
       "      <td>1</td>\n",
       "      <td>5</td>\n",
       "      <td>Research &amp; Development</td>\n",
       "      <td>Research Scientist</td>\n",
       "      <td>Female</td>\n",
       "      <td>33</td>\n",
       "      <td>Married</td>\n",
       "      <td>Master</td>\n",
       "      <td>Life Sciences</td>\n",
       "      <td>Travel_Frequently</td>\n",
       "      <td>3</td>\n",
       "      <td>High</td>\n",
       "      <td>1</td>\n",
       "      <td>High</td>\n",
       "      <td>2909</td>\n",
       "      <td>11</td>\n",
       "      <td>0</td>\n",
       "      <td>Yes</td>\n",
       "      <td>1</td>\n",
       "      <td>8</td>\n",
       "      <td>8</td>\n",
       "      <td>7</td>\n",
       "      <td>3</td>\n",
       "      <td>0</td>\n",
       "      <td>Very High</td>\n",
       "      <td>3</td>\n",
       "      <td>Better</td>\n",
       "      <td>High</td>\n",
       "      <td>No</td>\n",
       "    </tr>\n",
       "    <tr>\n",
       "      <th>4</th>\n",
       "      <td>1</td>\n",
       "      <td>7</td>\n",
       "      <td>Research &amp; Development</td>\n",
       "      <td>Laboratory Technician</td>\n",
       "      <td>Male</td>\n",
       "      <td>27</td>\n",
       "      <td>Married</td>\n",
       "      <td>Below College</td>\n",
       "      <td>Medical</td>\n",
       "      <td>Travel_Rarely</td>\n",
       "      <td>2</td>\n",
       "      <td>High</td>\n",
       "      <td>1</td>\n",
       "      <td>Medium</td>\n",
       "      <td>3468</td>\n",
       "      <td>12</td>\n",
       "      <td>1</td>\n",
       "      <td>No</td>\n",
       "      <td>9</td>\n",
       "      <td>6</td>\n",
       "      <td>2</td>\n",
       "      <td>2</td>\n",
       "      <td>2</td>\n",
       "      <td>2</td>\n",
       "      <td>Low</td>\n",
       "      <td>3</td>\n",
       "      <td>Better</td>\n",
       "      <td>Very High</td>\n",
       "      <td>No</td>\n",
       "    </tr>\n",
       "  </tbody>\n",
       "</table>\n",
       "</div>"
      ],
      "text/plain": [
       "   Employee Count  Employee ID              Department               Job Role  \\\n",
       "0               1            1                   Sales        Sales Executive   \n",
       "1               1            2  Research & Development     Research Scientist   \n",
       "2               1            4  Research & Development  Laboratory Technician   \n",
       "3               1            5  Research & Development     Research Scientist   \n",
       "4               1            7  Research & Development  Laboratory Technician   \n",
       "\n",
       "   Gender  Age Marital Status      Education Education Field  \\\n",
       "0  Female   41         Single        College   Life Sciences   \n",
       "1    Male   49        Married  Below College   Life Sciences   \n",
       "2    Male   37         Single        College           Other   \n",
       "3  Female   33        Married         Master   Life Sciences   \n",
       "4    Male   27        Married  Below College         Medical   \n",
       "\n",
       "     Business Travel  Distance From Home (kms) Job Involvement  Job Level  \\\n",
       "0      Travel_Rarely                         1            High          2   \n",
       "1  Travel_Frequently                         8          Medium          2   \n",
       "2      Travel_Rarely                         2          Medium          1   \n",
       "3  Travel_Frequently                         3            High          1   \n",
       "4      Travel_Rarely                         2            High          1   \n",
       "\n",
       "  Job Satisfaction  Monthly Income (USD)  Salary Hike (%)  Stock Option Level  \\\n",
       "0        Very High                  5993               11                   0   \n",
       "1           Medium                  5130               23                   1   \n",
       "2             High                  2090               15                   0   \n",
       "3             High                  2909               11                   0   \n",
       "4           Medium                  3468               12                   1   \n",
       "\n",
       "  Over Time  No. of Companies Worked  Total Working Years  Years At Company  \\\n",
       "0       Yes                        2                    8                 6   \n",
       "1        No                        1                   10                10   \n",
       "2       Yes                        6                    7                 0   \n",
       "3       Yes                        1                    8                 8   \n",
       "4        No                        9                    6                 2   \n",
       "\n",
       "   Years In Current Role  Years Since Last Promotion  Years With Curr Manager  \\\n",
       "0                      4                           0                        5   \n",
       "1                      7                           1                        7   \n",
       "2                      0                           0                        0   \n",
       "3                      7                           3                        0   \n",
       "4                      2                           2                        2   \n",
       "\n",
       "  Environment Satisfaction  Training Times Last Year Work Life Balance  \\\n",
       "0                   Medium                         0               Bad   \n",
       "1                     High                         3            Better   \n",
       "2                      Low                         3               Bad   \n",
       "3                Very High                         3            Better   \n",
       "4                      Low                         3            Better   \n",
       "\n",
       "  Relationship Satisfaction Attrition (Yes/No)  \n",
       "0                       Low                Yes  \n",
       "1                 Very High                 No  \n",
       "2                    Medium                Yes  \n",
       "3                      High                 No  \n",
       "4                 Very High                 No  "
      ]
     },
     "execution_count": 4,
     "metadata": {},
     "output_type": "execute_result"
    }
   ],
   "source": [
    "data.head()"
   ]
  },
  {
   "cell_type": "markdown",
   "id": "4d8534db",
   "metadata": {},
   "source": [
    "## Basic EDA (Exploratory Data Analysis)"
   ]
  },
  {
   "cell_type": "markdown",
   "id": "160d0f01",
   "metadata": {},
   "source": [
    "### Know all the columns Name"
   ]
  },
  {
   "cell_type": "code",
   "execution_count": 5,
   "id": "67740401",
   "metadata": {},
   "outputs": [
    {
     "data": {
      "text/plain": [
       "Index(['Employee Count', 'Employee ID', 'Department', 'Job Role', 'Gender',\n",
       "       'Age', 'Marital Status', 'Education', 'Education Field',\n",
       "       'Business Travel', 'Distance From Home (kms)', 'Job Involvement',\n",
       "       'Job Level', 'Job Satisfaction', 'Monthly Income (USD)',\n",
       "       'Salary Hike (%)', 'Stock Option Level', 'Over Time',\n",
       "       'No. of Companies Worked', 'Total Working Years', 'Years At Company',\n",
       "       'Years In Current Role', 'Years Since Last Promotion',\n",
       "       'Years With Curr Manager', 'Environment Satisfaction',\n",
       "       'Training Times Last Year', 'Work Life Balance',\n",
       "       'Relationship Satisfaction', 'Attrition (Yes/No)'],\n",
       "      dtype='object')"
      ]
     },
     "execution_count": 5,
     "metadata": {},
     "output_type": "execute_result"
    }
   ],
   "source": [
    "data.columns"
   ]
  },
  {
   "cell_type": "markdown",
   "id": "5fe39083",
   "metadata": {},
   "source": [
    "### Knows more about the data in the columns like data type it contains and total samples of each\n",
    "- Check which columns are having categorical, numerical or boolean values"
   ]
  },
  {
   "cell_type": "code",
   "execution_count": 6,
   "id": "9cf178a6",
   "metadata": {},
   "outputs": [
    {
     "name": "stdout",
     "output_type": "stream",
     "text": [
      "<class 'pandas.core.frame.DataFrame'>\n",
      "RangeIndex: 1470 entries, 0 to 1469\n",
      "Data columns (total 29 columns):\n",
      " #   Column                      Non-Null Count  Dtype \n",
      "---  ------                      --------------  ----- \n",
      " 0   Employee Count              1470 non-null   int64 \n",
      " 1   Employee ID                 1470 non-null   int64 \n",
      " 2   Department                  1470 non-null   object\n",
      " 3   Job Role                    1470 non-null   object\n",
      " 4   Gender                      1470 non-null   object\n",
      " 5   Age                         1470 non-null   int64 \n",
      " 6   Marital Status              1470 non-null   object\n",
      " 7   Education                   1470 non-null   object\n",
      " 8   Education Field             1470 non-null   object\n",
      " 9   Business Travel             1470 non-null   object\n",
      " 10  Distance From Home (kms)    1470 non-null   int64 \n",
      " 11  Job Involvement             1470 non-null   object\n",
      " 12  Job Level                   1470 non-null   int64 \n",
      " 13  Job Satisfaction            1470 non-null   object\n",
      " 14  Monthly Income (USD)        1470 non-null   int64 \n",
      " 15  Salary Hike (%)             1470 non-null   int64 \n",
      " 16  Stock Option Level          1470 non-null   int64 \n",
      " 17  Over Time                   1470 non-null   object\n",
      " 18  No. of Companies Worked     1470 non-null   int64 \n",
      " 19  Total Working Years         1470 non-null   int64 \n",
      " 20  Years At Company            1470 non-null   int64 \n",
      " 21  Years In Current Role       1470 non-null   int64 \n",
      " 22  Years Since Last Promotion  1470 non-null   int64 \n",
      " 23  Years With Curr Manager     1470 non-null   int64 \n",
      " 24  Environment Satisfaction    1470 non-null   object\n",
      " 25  Training Times Last Year    1470 non-null   int64 \n",
      " 26  Work Life Balance           1470 non-null   object\n",
      " 27  Relationship Satisfaction   1470 non-null   object\n",
      " 28  Attrition (Yes/No)          1470 non-null   object\n",
      "dtypes: int64(15), object(14)\n",
      "memory usage: 333.2+ KB\n"
     ]
    }
   ],
   "source": [
    "data.info()"
   ]
  },
  {
   "cell_type": "markdown",
   "id": "33059e57",
   "metadata": {},
   "source": [
    "- 1) After checking the Dtypes of all the columns\n",
    "    - A) Int64 : Numerical Values\n",
    "    - B) Object : Categorical Values\n",
    "- 2) There are less more Int64 values than the object values in the dataset"
   ]
  },
  {
   "cell_type": "markdown",
   "id": "66bee6c7",
   "metadata": {},
   "source": [
    "## Know more mathematical relations of the dataset like count, min, max values, standarad deviation values, mean and different percentile values"
   ]
  },
  {
   "cell_type": "code",
   "execution_count": 7,
   "id": "e02779f1",
   "metadata": {},
   "outputs": [
    {
     "data": {
      "text/html": [
       "<div>\n",
       "<style scoped>\n",
       "    .dataframe tbody tr th:only-of-type {\n",
       "        vertical-align: middle;\n",
       "    }\n",
       "\n",
       "    .dataframe tbody tr th {\n",
       "        vertical-align: top;\n",
       "    }\n",
       "\n",
       "    .dataframe thead th {\n",
       "        text-align: right;\n",
       "    }\n",
       "</style>\n",
       "<table border=\"1\" class=\"dataframe\">\n",
       "  <thead>\n",
       "    <tr style=\"text-align: right;\">\n",
       "      <th></th>\n",
       "      <th>Employee Count</th>\n",
       "      <th>Employee ID</th>\n",
       "      <th>Age</th>\n",
       "      <th>Distance From Home (kms)</th>\n",
       "      <th>Job Level</th>\n",
       "      <th>Monthly Income (USD)</th>\n",
       "      <th>Salary Hike (%)</th>\n",
       "      <th>Stock Option Level</th>\n",
       "      <th>No. of Companies Worked</th>\n",
       "      <th>Total Working Years</th>\n",
       "      <th>Years At Company</th>\n",
       "      <th>Years In Current Role</th>\n",
       "      <th>Years Since Last Promotion</th>\n",
       "      <th>Years With Curr Manager</th>\n",
       "      <th>Training Times Last Year</th>\n",
       "    </tr>\n",
       "  </thead>\n",
       "  <tbody>\n",
       "    <tr>\n",
       "      <th>count</th>\n",
       "      <td>1470.0</td>\n",
       "      <td>1470.000000</td>\n",
       "      <td>1470.000000</td>\n",
       "      <td>1470.000000</td>\n",
       "      <td>1470.000000</td>\n",
       "      <td>1470.000000</td>\n",
       "      <td>1470.000000</td>\n",
       "      <td>1470.000000</td>\n",
       "      <td>1470.000000</td>\n",
       "      <td>1470.000000</td>\n",
       "      <td>1470.000000</td>\n",
       "      <td>1470.000000</td>\n",
       "      <td>1470.000000</td>\n",
       "      <td>1470.000000</td>\n",
       "      <td>1470.000000</td>\n",
       "    </tr>\n",
       "    <tr>\n",
       "      <th>mean</th>\n",
       "      <td>1.0</td>\n",
       "      <td>1024.865306</td>\n",
       "      <td>36.923810</td>\n",
       "      <td>9.192517</td>\n",
       "      <td>2.063946</td>\n",
       "      <td>6502.931293</td>\n",
       "      <td>14.951701</td>\n",
       "      <td>0.793878</td>\n",
       "      <td>2.689116</td>\n",
       "      <td>11.279592</td>\n",
       "      <td>7.008163</td>\n",
       "      <td>4.229252</td>\n",
       "      <td>2.187755</td>\n",
       "      <td>4.123129</td>\n",
       "      <td>2.799320</td>\n",
       "    </tr>\n",
       "    <tr>\n",
       "      <th>std</th>\n",
       "      <td>0.0</td>\n",
       "      <td>602.024335</td>\n",
       "      <td>9.135373</td>\n",
       "      <td>8.106864</td>\n",
       "      <td>1.106940</td>\n",
       "      <td>4707.956783</td>\n",
       "      <td>3.533904</td>\n",
       "      <td>0.852077</td>\n",
       "      <td>2.494231</td>\n",
       "      <td>7.780782</td>\n",
       "      <td>6.126525</td>\n",
       "      <td>3.623137</td>\n",
       "      <td>3.222430</td>\n",
       "      <td>3.568136</td>\n",
       "      <td>1.289271</td>\n",
       "    </tr>\n",
       "    <tr>\n",
       "      <th>min</th>\n",
       "      <td>1.0</td>\n",
       "      <td>1.000000</td>\n",
       "      <td>18.000000</td>\n",
       "      <td>1.000000</td>\n",
       "      <td>1.000000</td>\n",
       "      <td>1009.000000</td>\n",
       "      <td>10.000000</td>\n",
       "      <td>0.000000</td>\n",
       "      <td>0.000000</td>\n",
       "      <td>0.000000</td>\n",
       "      <td>0.000000</td>\n",
       "      <td>0.000000</td>\n",
       "      <td>0.000000</td>\n",
       "      <td>0.000000</td>\n",
       "      <td>0.000000</td>\n",
       "    </tr>\n",
       "    <tr>\n",
       "      <th>25%</th>\n",
       "      <td>1.0</td>\n",
       "      <td>491.250000</td>\n",
       "      <td>30.000000</td>\n",
       "      <td>2.000000</td>\n",
       "      <td>1.000000</td>\n",
       "      <td>2911.000000</td>\n",
       "      <td>12.000000</td>\n",
       "      <td>0.000000</td>\n",
       "      <td>1.000000</td>\n",
       "      <td>6.000000</td>\n",
       "      <td>3.000000</td>\n",
       "      <td>2.000000</td>\n",
       "      <td>0.000000</td>\n",
       "      <td>2.000000</td>\n",
       "      <td>2.000000</td>\n",
       "    </tr>\n",
       "    <tr>\n",
       "      <th>50%</th>\n",
       "      <td>1.0</td>\n",
       "      <td>1020.500000</td>\n",
       "      <td>36.000000</td>\n",
       "      <td>7.000000</td>\n",
       "      <td>2.000000</td>\n",
       "      <td>4919.000000</td>\n",
       "      <td>14.000000</td>\n",
       "      <td>1.000000</td>\n",
       "      <td>2.000000</td>\n",
       "      <td>10.000000</td>\n",
       "      <td>5.000000</td>\n",
       "      <td>3.000000</td>\n",
       "      <td>1.000000</td>\n",
       "      <td>3.000000</td>\n",
       "      <td>3.000000</td>\n",
       "    </tr>\n",
       "    <tr>\n",
       "      <th>75%</th>\n",
       "      <td>1.0</td>\n",
       "      <td>1555.750000</td>\n",
       "      <td>43.000000</td>\n",
       "      <td>14.000000</td>\n",
       "      <td>3.000000</td>\n",
       "      <td>8379.000000</td>\n",
       "      <td>17.000000</td>\n",
       "      <td>1.000000</td>\n",
       "      <td>4.000000</td>\n",
       "      <td>15.000000</td>\n",
       "      <td>9.000000</td>\n",
       "      <td>7.000000</td>\n",
       "      <td>3.000000</td>\n",
       "      <td>7.000000</td>\n",
       "      <td>3.000000</td>\n",
       "    </tr>\n",
       "    <tr>\n",
       "      <th>max</th>\n",
       "      <td>1.0</td>\n",
       "      <td>2068.000000</td>\n",
       "      <td>60.000000</td>\n",
       "      <td>29.000000</td>\n",
       "      <td>5.000000</td>\n",
       "      <td>19999.000000</td>\n",
       "      <td>25.000000</td>\n",
       "      <td>3.000000</td>\n",
       "      <td>9.000000</td>\n",
       "      <td>40.000000</td>\n",
       "      <td>40.000000</td>\n",
       "      <td>18.000000</td>\n",
       "      <td>15.000000</td>\n",
       "      <td>17.000000</td>\n",
       "      <td>6.000000</td>\n",
       "    </tr>\n",
       "  </tbody>\n",
       "</table>\n",
       "</div>"
      ],
      "text/plain": [
       "       Employee Count  Employee ID          Age  Distance From Home (kms)  \\\n",
       "count          1470.0  1470.000000  1470.000000               1470.000000   \n",
       "mean              1.0  1024.865306    36.923810                  9.192517   \n",
       "std               0.0   602.024335     9.135373                  8.106864   \n",
       "min               1.0     1.000000    18.000000                  1.000000   \n",
       "25%               1.0   491.250000    30.000000                  2.000000   \n",
       "50%               1.0  1020.500000    36.000000                  7.000000   \n",
       "75%               1.0  1555.750000    43.000000                 14.000000   \n",
       "max               1.0  2068.000000    60.000000                 29.000000   \n",
       "\n",
       "         Job Level  Monthly Income (USD)  Salary Hike (%)  Stock Option Level  \\\n",
       "count  1470.000000           1470.000000      1470.000000         1470.000000   \n",
       "mean      2.063946           6502.931293        14.951701            0.793878   \n",
       "std       1.106940           4707.956783         3.533904            0.852077   \n",
       "min       1.000000           1009.000000        10.000000            0.000000   \n",
       "25%       1.000000           2911.000000        12.000000            0.000000   \n",
       "50%       2.000000           4919.000000        14.000000            1.000000   \n",
       "75%       3.000000           8379.000000        17.000000            1.000000   \n",
       "max       5.000000          19999.000000        25.000000            3.000000   \n",
       "\n",
       "       No. of Companies Worked  Total Working Years  Years At Company  \\\n",
       "count              1470.000000          1470.000000       1470.000000   \n",
       "mean                  2.689116            11.279592          7.008163   \n",
       "std                   2.494231             7.780782          6.126525   \n",
       "min                   0.000000             0.000000          0.000000   \n",
       "25%                   1.000000             6.000000          3.000000   \n",
       "50%                   2.000000            10.000000          5.000000   \n",
       "75%                   4.000000            15.000000          9.000000   \n",
       "max                   9.000000            40.000000         40.000000   \n",
       "\n",
       "       Years In Current Role  Years Since Last Promotion  \\\n",
       "count            1470.000000                 1470.000000   \n",
       "mean                4.229252                    2.187755   \n",
       "std                 3.623137                    3.222430   \n",
       "min                 0.000000                    0.000000   \n",
       "25%                 2.000000                    0.000000   \n",
       "50%                 3.000000                    1.000000   \n",
       "75%                 7.000000                    3.000000   \n",
       "max                18.000000                   15.000000   \n",
       "\n",
       "       Years With Curr Manager  Training Times Last Year  \n",
       "count              1470.000000               1470.000000  \n",
       "mean                  4.123129                  2.799320  \n",
       "std                   3.568136                  1.289271  \n",
       "min                   0.000000                  0.000000  \n",
       "25%                   2.000000                  2.000000  \n",
       "50%                   3.000000                  3.000000  \n",
       "75%                   7.000000                  3.000000  \n",
       "max                  17.000000                  6.000000  "
      ]
     },
     "execution_count": 7,
     "metadata": {},
     "output_type": "execute_result"
    }
   ],
   "source": [
    "data.describe()"
   ]
  },
  {
   "cell_type": "markdown",
   "id": "5c07fa57",
   "metadata": {},
   "source": [
    "## Shape of data"
   ]
  },
  {
   "cell_type": "code",
   "execution_count": 8,
   "id": "13ddf0b5",
   "metadata": {},
   "outputs": [
    {
     "name": "stdout",
     "output_type": "stream",
     "text": [
      "Shape of your data :  (1470, 29)\n"
     ]
    }
   ],
   "source": [
    "print(\"Shape of your data : \", data.shape)"
   ]
  },
  {
   "cell_type": "markdown",
   "id": "f1984870",
   "metadata": {},
   "source": [
    "## Get the duplicated rows"
   ]
  },
  {
   "cell_type": "code",
   "execution_count": 9,
   "id": "4365f923",
   "metadata": {},
   "outputs": [
    {
     "name": "stdout",
     "output_type": "stream",
     "text": [
      "Employee Count :-  1\n",
      "Employee ID :-  1470\n",
      "Department :-  3\n",
      "Job Role :-  9\n",
      "Gender :-  2\n",
      "Age :-  43\n",
      "Marital Status :-  3\n",
      "Education :-  5\n",
      "Education Field :-  6\n",
      "Business Travel :-  3\n",
      "Distance From Home (kms) :-  29\n",
      "Job Involvement :-  4\n",
      "Job Level :-  5\n",
      "Job Satisfaction :-  4\n",
      "Monthly Income (USD) :-  1349\n",
      "Salary Hike (%) :-  16\n",
      "Stock Option Level :-  4\n",
      "Over Time :-  2\n",
      "No. of Companies Worked :-  10\n",
      "Total Working Years :-  40\n",
      "Years At Company :-  37\n",
      "Years In Current Role :-  19\n",
      "Years Since Last Promotion :-  16\n",
      "Years With Curr Manager :-  18\n",
      "Environment Satisfaction :-  4\n",
      "Training Times Last Year :-  7\n",
      "Work Life Balance :-  4\n",
      "Relationship Satisfaction :-  4\n",
      "Attrition (Yes/No) :-  2\n"
     ]
    }
   ],
   "source": [
    "for i in data.columns:\n",
    "    print(i ,\":- \", 1470 - data[i].duplicated().sum())"
   ]
  },
  {
   "cell_type": "markdown",
   "id": "a945e890",
   "metadata": {},
   "source": [
    "## Counting the total number of missing values"
   ]
  },
  {
   "cell_type": "code",
   "execution_count": 10,
   "id": "f55ea58b",
   "metadata": {},
   "outputs": [
    {
     "data": {
      "text/plain": [
       "Employee Count                0\n",
       "Employee ID                   0\n",
       "Department                    0\n",
       "Job Role                      0\n",
       "Gender                        0\n",
       "Age                           0\n",
       "Marital Status                0\n",
       "Education                     0\n",
       "Education Field               0\n",
       "Business Travel               0\n",
       "Distance From Home (kms)      0\n",
       "Job Involvement               0\n",
       "Job Level                     0\n",
       "Job Satisfaction              0\n",
       "Monthly Income (USD)          0\n",
       "Salary Hike (%)               0\n",
       "Stock Option Level            0\n",
       "Over Time                     0\n",
       "No. of Companies Worked       0\n",
       "Total Working Years           0\n",
       "Years At Company              0\n",
       "Years In Current Role         0\n",
       "Years Since Last Promotion    0\n",
       "Years With Curr Manager       0\n",
       "Environment Satisfaction      0\n",
       "Training Times Last Year      0\n",
       "Work Life Balance             0\n",
       "Relationship Satisfaction     0\n",
       "Attrition (Yes/No)            0\n",
       "dtype: int64"
      ]
     },
     "execution_count": 10,
     "metadata": {},
     "output_type": "execute_result"
    }
   ],
   "source": [
    "data.isnull().sum()"
   ]
  },
  {
   "cell_type": "markdown",
   "id": "09363f18",
   "metadata": {},
   "source": [
    "Their is no any null values in our dataset"
   ]
  },
  {
   "cell_type": "markdown",
   "id": "e77b2e23",
   "metadata": {},
   "source": [
    "## categorical Columns Name"
   ]
  },
  {
   "cell_type": "code",
   "execution_count": 11,
   "id": "88d7d22c",
   "metadata": {},
   "outputs": [
    {
     "data": {
      "text/plain": [
       "Index(['Department', 'Job Role', 'Gender', 'Marital Status', 'Education',\n",
       "       'Education Field', 'Business Travel', 'Job Involvement',\n",
       "       'Job Satisfaction', 'Over Time', 'Environment Satisfaction',\n",
       "       'Work Life Balance', 'Relationship Satisfaction', 'Attrition (Yes/No)'],\n",
       "      dtype='object')"
      ]
     },
     "execution_count": 11,
     "metadata": {},
     "output_type": "execute_result"
    }
   ],
   "source": [
    "categorical_cols = data.select_dtypes(include = [\"object\"])\n",
    "categorical_cols = categorical_cols.columns\n",
    "categorical_cols"
   ]
  },
  {
   "cell_type": "markdown",
   "id": "7121b8ba",
   "metadata": {},
   "source": [
    "## Numerical Columns Name"
   ]
  },
  {
   "cell_type": "code",
   "execution_count": 12,
   "id": "38d84f8a",
   "metadata": {},
   "outputs": [
    {
     "data": {
      "text/plain": [
       "Index(['Employee Count', 'Employee ID', 'Age', 'Distance From Home (kms)',\n",
       "       'Job Level', 'Monthly Income (USD)', 'Salary Hike (%)',\n",
       "       'Stock Option Level', 'No. of Companies Worked', 'Total Working Years',\n",
       "       'Years At Company', 'Years In Current Role',\n",
       "       'Years Since Last Promotion', 'Years With Curr Manager',\n",
       "       'Training Times Last Year'],\n",
       "      dtype='object')"
      ]
     },
     "execution_count": 12,
     "metadata": {},
     "output_type": "execute_result"
    }
   ],
   "source": [
    "numerical_cols = data.select_dtypes(include = [\"int64\"])\n",
    "numerical_cols = numerical_cols.columns\n",
    "numerical_cols"
   ]
  },
  {
   "cell_type": "markdown",
   "id": "59c8db18",
   "metadata": {},
   "source": [
    "# Correlation Matrix\n",
    "## Why?\n",
    "**A correlation matrix is a table showing correlation coefficients between variables.**\n",
    "\n",
    "### There are three broad reasons for computing a correlation matrix:\n",
    "- 1) To summarize a large amount of data where the goal is to see patterns. In our example above, the observable pattern is that all the variables highly correlate with each other.\n",
    "- 2) To input into other analyses. For example, people commonly use correlation matrixes as inputs for exploratory factor analysis, confirmatory factor analysis\n",
    "- 3) As a diagnostic when checking other analyses. For example, with linear regression, a high amount of correlations suggests that the linear regression estimates will be unreliable."
   ]
  },
  {
   "cell_type": "markdown",
   "id": "f52ea0bd",
   "metadata": {},
   "source": [
    "***correlation matrics using pandas***"
   ]
  },
  {
   "cell_type": "code",
   "execution_count": 13,
   "id": "01886ae3",
   "metadata": {},
   "outputs": [
    {
     "data": {
      "text/html": [
       "<style  type=\"text/css\" >\n",
       "#T_f9576_row0_col0,#T_f9576_row0_col1,#T_f9576_row0_col2,#T_f9576_row0_col3,#T_f9576_row0_col4,#T_f9576_row0_col5,#T_f9576_row0_col6,#T_f9576_row0_col7,#T_f9576_row0_col8,#T_f9576_row0_col9,#T_f9576_row0_col10,#T_f9576_row0_col11,#T_f9576_row0_col12,#T_f9576_row0_col13,#T_f9576_row0_col14,#T_f9576_row1_col0,#T_f9576_row2_col0,#T_f9576_row3_col0,#T_f9576_row4_col0,#T_f9576_row5_col0,#T_f9576_row6_col0,#T_f9576_row7_col0,#T_f9576_row8_col0,#T_f9576_row9_col0,#T_f9576_row10_col0,#T_f9576_row11_col0,#T_f9576_row12_col0,#T_f9576_row13_col0,#T_f9576_row14_col0{\n",
       "            background-color:  #000000;\n",
       "            color:  #f1f1f1;\n",
       "        }#T_f9576_row1_col1,#T_f9576_row2_col2,#T_f9576_row3_col3,#T_f9576_row4_col4,#T_f9576_row5_col5,#T_f9576_row6_col6,#T_f9576_row7_col7,#T_f9576_row8_col8,#T_f9576_row9_col9,#T_f9576_row10_col10,#T_f9576_row11_col11,#T_f9576_row12_col12,#T_f9576_row13_col13,#T_f9576_row14_col14{\n",
       "            background-color:  #b40426;\n",
       "            color:  #f1f1f1;\n",
       "        }#T_f9576_row1_col2,#T_f9576_row2_col1,#T_f9576_row4_col7,#T_f9576_row8_col3,#T_f9576_row10_col7,#T_f9576_row11_col1,#T_f9576_row12_col1,#T_f9576_row12_col7,#T_f9576_row13_col1{\n",
       "            background-color:  #3d50c3;\n",
       "            color:  #f1f1f1;\n",
       "        }#T_f9576_row1_col3,#T_f9576_row6_col14,#T_f9576_row7_col14{\n",
       "            background-color:  #4f69d9;\n",
       "            color:  #000000;\n",
       "        }#T_f9576_row1_col4,#T_f9576_row1_col6,#T_f9576_row4_col1,#T_f9576_row5_col1,#T_f9576_row5_col7,#T_f9576_row8_col6,#T_f9576_row8_col10,#T_f9576_row8_col11,#T_f9576_row8_col12,#T_f9576_row8_col13,#T_f9576_row8_col14,#T_f9576_row10_col6,#T_f9576_row10_col8,#T_f9576_row14_col2,#T_f9576_row14_col3,#T_f9576_row14_col4,#T_f9576_row14_col5,#T_f9576_row14_col9{\n",
       "            background-color:  #3b4cc0;\n",
       "            color:  #f1f1f1;\n",
       "        }#T_f9576_row1_col5,#T_f9576_row3_col5,#T_f9576_row9_col1,#T_f9576_row9_col7,#T_f9576_row10_col1,#T_f9576_row12_col6,#T_f9576_row13_col8,#T_f9576_row14_col7{\n",
       "            background-color:  #3c4ec2;\n",
       "            color:  #f1f1f1;\n",
       "        }#T_f9576_row1_col7,#T_f9576_row7_col2,#T_f9576_row12_col14,#T_f9576_row13_col14{\n",
       "            background-color:  #4b64d5;\n",
       "            color:  #f1f1f1;\n",
       "        }#T_f9576_row1_col8,#T_f9576_row6_col8,#T_f9576_row14_col10{\n",
       "            background-color:  #5b7ae5;\n",
       "            color:  #000000;\n",
       "        }#T_f9576_row1_col9,#T_f9576_row3_col4,#T_f9576_row8_col1,#T_f9576_row9_col6,#T_f9576_row13_col6{\n",
       "            background-color:  #4055c8;\n",
       "            color:  #f1f1f1;\n",
       "        }#T_f9576_row1_col10,#T_f9576_row14_col13{\n",
       "            background-color:  #5875e1;\n",
       "            color:  #000000;\n",
       "        }#T_f9576_row1_col11,#T_f9576_row14_col11{\n",
       "            background-color:  #516ddb;\n",
       "            color:  #000000;\n",
       "        }#T_f9576_row1_col12,#T_f9576_row3_col14,#T_f9576_row7_col5,#T_f9576_row8_col7,#T_f9576_row9_col14,#T_f9576_row11_col8{\n",
       "            background-color:  #4257c9;\n",
       "            color:  #f1f1f1;\n",
       "        }#T_f9576_row1_col13{\n",
       "            background-color:  #5673e0;\n",
       "            color:  #000000;\n",
       "        }#T_f9576_row1_col14,#T_f9576_row3_col8,#T_f9576_row7_col1,#T_f9576_row7_col3{\n",
       "            background-color:  #536edd;\n",
       "            color:  #000000;\n",
       "        }#T_f9576_row2_col3,#T_f9576_row2_col7,#T_f9576_row7_col4,#T_f9576_row11_col6,#T_f9576_row14_col12{\n",
       "            background-color:  #445acc;\n",
       "            color:  #f1f1f1;\n",
       "        }#T_f9576_row2_col4,#T_f9576_row4_col2{\n",
       "            background-color:  #e1dad6;\n",
       "            color:  #000000;\n",
       "        }#T_f9576_row2_col5{\n",
       "            background-color:  #dfdbd9;\n",
       "            color:  #000000;\n",
       "        }#T_f9576_row2_col6,#T_f9576_row3_col12,#T_f9576_row7_col6,#T_f9576_row7_col9,#T_f9576_row10_col3,#T_f9576_row11_col7,#T_f9576_row12_col3{\n",
       "            background-color:  #485fd1;\n",
       "            color:  #f1f1f1;\n",
       "        }#T_f9576_row2_col8{\n",
       "            background-color:  #b7cff9;\n",
       "            color:  #000000;\n",
       "        }#T_f9576_row2_col9{\n",
       "            background-color:  #f7b093;\n",
       "            color:  #000000;\n",
       "        }#T_f9576_row2_col10,#T_f9576_row13_col4{\n",
       "            background-color:  #bbd1f8;\n",
       "            color:  #000000;\n",
       "        }#T_f9576_row2_col11{\n",
       "            background-color:  #97b8ff;\n",
       "            color:  #000000;\n",
       "        }#T_f9576_row2_col12{\n",
       "            background-color:  #8badfd;\n",
       "            color:  #000000;\n",
       "        }#T_f9576_row2_col13{\n",
       "            background-color:  #98b9ff;\n",
       "            color:  #000000;\n",
       "        }#T_f9576_row2_col14,#T_f9576_row3_col7,#T_f9576_row4_col3,#T_f9576_row4_col14,#T_f9576_row9_col3,#T_f9576_row14_col1{\n",
       "            background-color:  #465ecf;\n",
       "            color:  #f1f1f1;\n",
       "        }#T_f9576_row3_col1,#T_f9576_row7_col12,#T_f9576_row13_col3,#T_f9576_row14_col8{\n",
       "            background-color:  #4961d2;\n",
       "            color:  #f1f1f1;\n",
       "        }#T_f9576_row3_col2,#T_f9576_row3_col6,#T_f9576_row5_col3,#T_f9576_row5_col6,#T_f9576_row6_col1,#T_f9576_row13_col7{\n",
       "            background-color:  #3f53c6;\n",
       "            color:  #f1f1f1;\n",
       "        }#T_f9576_row3_col9,#T_f9576_row5_col14,#T_f9576_row6_col5,#T_f9576_row6_col7,#T_f9576_row6_col12{\n",
       "            background-color:  #455cce;\n",
       "            color:  #f1f1f1;\n",
       "        }#T_f9576_row3_col10,#T_f9576_row6_col13{\n",
       "            background-color:  #5e7de7;\n",
       "            color:  #000000;\n",
       "        }#T_f9576_row3_col11{\n",
       "            background-color:  #5977e3;\n",
       "            color:  #000000;\n",
       "        }#T_f9576_row3_col13,#T_f9576_row6_col11{\n",
       "            background-color:  #5d7ce6;\n",
       "            color:  #000000;\n",
       "        }#T_f9576_row4_col5,#T_f9576_row5_col4{\n",
       "            background-color:  #c53334;\n",
       "            color:  #f1f1f1;\n",
       "        }#T_f9576_row4_col6,#T_f9576_row14_col6{\n",
       "            background-color:  #3e51c5;\n",
       "            color:  #f1f1f1;\n",
       "        }#T_f9576_row4_col8,#T_f9576_row12_col2{\n",
       "            background-color:  #86a9fc;\n",
       "            color:  #000000;\n",
       "        }#T_f9576_row4_col9,#T_f9576_row10_col13{\n",
       "            background-color:  #ef886b;\n",
       "            color:  #000000;\n",
       "        }#T_f9576_row4_col10,#T_f9576_row12_col11{\n",
       "            background-color:  #efcebd;\n",
       "            color:  #000000;\n",
       "        }#T_f9576_row4_col11,#T_f9576_row4_col13{\n",
       "            background-color:  #ccd9ed;\n",
       "            color:  #000000;\n",
       "        }#T_f9576_row4_col12,#T_f9576_row11_col5{\n",
       "            background-color:  #b9d0f9;\n",
       "            color:  #000000;\n",
       "        }#T_f9576_row5_col2,#T_f9576_row9_col11{\n",
       "            background-color:  #dedcdb;\n",
       "            color:  #000000;\n",
       "        }#T_f9576_row5_col8{\n",
       "            background-color:  #89acfd;\n",
       "            color:  #000000;\n",
       "        }#T_f9576_row5_col9,#T_f9576_row9_col5,#T_f9576_row10_col11{\n",
       "            background-color:  #f18d6f;\n",
       "            color:  #000000;\n",
       "        }#T_f9576_row5_col10,#T_f9576_row11_col12{\n",
       "            background-color:  #ecd3c5;\n",
       "            color:  #000000;\n",
       "        }#T_f9576_row5_col11{\n",
       "            background-color:  #c5d6f2;\n",
       "            color:  #000000;\n",
       "        }#T_f9576_row5_col12{\n",
       "            background-color:  #b6cefa;\n",
       "            color:  #000000;\n",
       "        }#T_f9576_row5_col13{\n",
       "            background-color:  #c3d5f4;\n",
       "            color:  #000000;\n",
       "        }#T_f9576_row6_col2,#T_f9576_row10_col14{\n",
       "            background-color:  #4c66d6;\n",
       "            color:  #000000;\n",
       "        }#T_f9576_row6_col3,#T_f9576_row6_col9,#T_f9576_row11_col3,#T_f9576_row11_col14{\n",
       "            background-color:  #4a63d3;\n",
       "            color:  #f1f1f1;\n",
       "        }#T_f9576_row6_col4{\n",
       "            background-color:  #4358cb;\n",
       "            color:  #f1f1f1;\n",
       "        }#T_f9576_row6_col10{\n",
       "            background-color:  #5a78e4;\n",
       "            color:  #000000;\n",
       "        }#T_f9576_row7_col8{\n",
       "            background-color:  #6485ec;\n",
       "            color:  #000000;\n",
       "        }#T_f9576_row7_col10{\n",
       "            background-color:  #5f7fe8;\n",
       "            color:  #000000;\n",
       "        }#T_f9576_row7_col11{\n",
       "            background-color:  #6384eb;\n",
       "            color:  #000000;\n",
       "        }#T_f9576_row7_col13{\n",
       "            background-color:  #6180e9;\n",
       "            color:  #000000;\n",
       "        }#T_f9576_row8_col2{\n",
       "            background-color:  #a3c2fe;\n",
       "            color:  #000000;\n",
       "        }#T_f9576_row8_col4{\n",
       "            background-color:  #6c8ff1;\n",
       "            color:  #000000;\n",
       "        }#T_f9576_row8_col5{\n",
       "            background-color:  #7093f3;\n",
       "            color:  #000000;\n",
       "        }#T_f9576_row8_col9{\n",
       "            background-color:  #92b4fe;\n",
       "            color:  #000000;\n",
       "        }#T_f9576_row9_col2{\n",
       "            background-color:  #f7b194;\n",
       "            color:  #000000;\n",
       "        }#T_f9576_row9_col4{\n",
       "            background-color:  #f08a6c;\n",
       "            color:  #000000;\n",
       "        }#T_f9576_row9_col8{\n",
       "            background-color:  #a5c3fe;\n",
       "            color:  #000000;\n",
       "        }#T_f9576_row9_col10{\n",
       "            background-color:  #f7b89c;\n",
       "            color:  #000000;\n",
       "        }#T_f9576_row9_col12,#T_f9576_row12_col9{\n",
       "            background-color:  #c7d7f0;\n",
       "            color:  #000000;\n",
       "        }#T_f9576_row9_col13{\n",
       "            background-color:  #e0dbd8;\n",
       "            color:  #000000;\n",
       "        }#T_f9576_row10_col2{\n",
       "            background-color:  #a7c5fe;\n",
       "            color:  #000000;\n",
       "        }#T_f9576_row10_col4{\n",
       "            background-color:  #e8d6cc;\n",
       "            color:  #000000;\n",
       "        }#T_f9576_row10_col5,#T_f9576_row13_col12{\n",
       "            background-color:  #e3d9d3;\n",
       "            color:  #000000;\n",
       "        }#T_f9576_row10_col9{\n",
       "            background-color:  #f6bfa6;\n",
       "            color:  #000000;\n",
       "        }#T_f9576_row10_col12{\n",
       "            background-color:  #f5c2aa;\n",
       "            color:  #000000;\n",
       "        }#T_f9576_row11_col2{\n",
       "            background-color:  #85a8fc;\n",
       "            color:  #000000;\n",
       "        }#T_f9576_row11_col4{\n",
       "            background-color:  #c0d4f5;\n",
       "            color:  #000000;\n",
       "        }#T_f9576_row11_col9,#T_f9576_row13_col9{\n",
       "            background-color:  #d7dce3;\n",
       "            color:  #000000;\n",
       "        }#T_f9576_row11_col10{\n",
       "            background-color:  #f08b6e;\n",
       "            color:  #000000;\n",
       "        }#T_f9576_row11_col13{\n",
       "            background-color:  #f59c7d;\n",
       "            color:  #000000;\n",
       "        }#T_f9576_row12_col4{\n",
       "            background-color:  #b5cdfa;\n",
       "            color:  #000000;\n",
       "        }#T_f9576_row12_col5,#T_f9576_row13_col5{\n",
       "            background-color:  #b2ccfb;\n",
       "            color:  #000000;\n",
       "        }#T_f9576_row12_col8{\n",
       "            background-color:  #506bda;\n",
       "            color:  #000000;\n",
       "        }#T_f9576_row12_col10{\n",
       "            background-color:  #f7ba9f;\n",
       "            color:  #000000;\n",
       "        }#T_f9576_row12_col13{\n",
       "            background-color:  #ebd3c6;\n",
       "            color:  #000000;\n",
       "        }#T_f9576_row13_col2{\n",
       "            background-color:  #81a4fb;\n",
       "            color:  #000000;\n",
       "        }#T_f9576_row13_col10{\n",
       "            background-color:  #ee8669;\n",
       "            color:  #000000;\n",
       "        }#T_f9576_row13_col11{\n",
       "            background-color:  #f59f80;\n",
       "            color:  #000000;\n",
       "        }</style><table id=\"T_f9576_\" ><thead>    <tr>        <th class=\"blank level0\" ></th>        <th class=\"col_heading level0 col0\" >Employee Count</th>        <th class=\"col_heading level0 col1\" >Employee ID</th>        <th class=\"col_heading level0 col2\" >Age</th>        <th class=\"col_heading level0 col3\" >Distance From Home (kms)</th>        <th class=\"col_heading level0 col4\" >Job Level</th>        <th class=\"col_heading level0 col5\" >Monthly Income (USD)</th>        <th class=\"col_heading level0 col6\" >Salary Hike (%)</th>        <th class=\"col_heading level0 col7\" >Stock Option Level</th>        <th class=\"col_heading level0 col8\" >No. of Companies Worked</th>        <th class=\"col_heading level0 col9\" >Total Working Years</th>        <th class=\"col_heading level0 col10\" >Years At Company</th>        <th class=\"col_heading level0 col11\" >Years In Current Role</th>        <th class=\"col_heading level0 col12\" >Years Since Last Promotion</th>        <th class=\"col_heading level0 col13\" >Years With Curr Manager</th>        <th class=\"col_heading level0 col14\" >Training Times Last Year</th>    </tr></thead><tbody>\n",
       "                <tr>\n",
       "                        <th id=\"T_f9576_level0_row0\" class=\"row_heading level0 row0\" >Employee Count</th>\n",
       "                        <td id=\"T_f9576_row0_col0\" class=\"data row0 col0\" >nan</td>\n",
       "                        <td id=\"T_f9576_row0_col1\" class=\"data row0 col1\" >nan</td>\n",
       "                        <td id=\"T_f9576_row0_col2\" class=\"data row0 col2\" >nan</td>\n",
       "                        <td id=\"T_f9576_row0_col3\" class=\"data row0 col3\" >nan</td>\n",
       "                        <td id=\"T_f9576_row0_col4\" class=\"data row0 col4\" >nan</td>\n",
       "                        <td id=\"T_f9576_row0_col5\" class=\"data row0 col5\" >nan</td>\n",
       "                        <td id=\"T_f9576_row0_col6\" class=\"data row0 col6\" >nan</td>\n",
       "                        <td id=\"T_f9576_row0_col7\" class=\"data row0 col7\" >nan</td>\n",
       "                        <td id=\"T_f9576_row0_col8\" class=\"data row0 col8\" >nan</td>\n",
       "                        <td id=\"T_f9576_row0_col9\" class=\"data row0 col9\" >nan</td>\n",
       "                        <td id=\"T_f9576_row0_col10\" class=\"data row0 col10\" >nan</td>\n",
       "                        <td id=\"T_f9576_row0_col11\" class=\"data row0 col11\" >nan</td>\n",
       "                        <td id=\"T_f9576_row0_col12\" class=\"data row0 col12\" >nan</td>\n",
       "                        <td id=\"T_f9576_row0_col13\" class=\"data row0 col13\" >nan</td>\n",
       "                        <td id=\"T_f9576_row0_col14\" class=\"data row0 col14\" >nan</td>\n",
       "            </tr>\n",
       "            <tr>\n",
       "                        <th id=\"T_f9576_level0_row1\" class=\"row_heading level0 row1\" >Employee ID</th>\n",
       "                        <td id=\"T_f9576_row1_col0\" class=\"data row1 col0\" >nan</td>\n",
       "                        <td id=\"T_f9576_row1_col1\" class=\"data row1 col1\" >1.00</td>\n",
       "                        <td id=\"T_f9576_row1_col2\" class=\"data row1 col2\" >-0.01</td>\n",
       "                        <td id=\"T_f9576_row1_col3\" class=\"data row1 col3\" >0.03</td>\n",
       "                        <td id=\"T_f9576_row1_col4\" class=\"data row1 col4\" >-0.02</td>\n",
       "                        <td id=\"T_f9576_row1_col5\" class=\"data row1 col5\" >-0.01</td>\n",
       "                        <td id=\"T_f9576_row1_col6\" class=\"data row1 col6\" >-0.00</td>\n",
       "                        <td id=\"T_f9576_row1_col7\" class=\"data row1 col7\" >0.06</td>\n",
       "                        <td id=\"T_f9576_row1_col8\" class=\"data row1 col8\" >0.00</td>\n",
       "                        <td id=\"T_f9576_row1_col9\" class=\"data row1 col9\" >-0.01</td>\n",
       "                        <td id=\"T_f9576_row1_col10\" class=\"data row1 col10\" >-0.01</td>\n",
       "                        <td id=\"T_f9576_row1_col11\" class=\"data row1 col11\" >-0.01</td>\n",
       "                        <td id=\"T_f9576_row1_col12\" class=\"data row1 col12\" >-0.01</td>\n",
       "                        <td id=\"T_f9576_row1_col13\" class=\"data row1 col13\" >-0.01</td>\n",
       "                        <td id=\"T_f9576_row1_col14\" class=\"data row1 col14\" >0.02</td>\n",
       "            </tr>\n",
       "            <tr>\n",
       "                        <th id=\"T_f9576_level0_row2\" class=\"row_heading level0 row2\" >Age</th>\n",
       "                        <td id=\"T_f9576_row2_col0\" class=\"data row2 col0\" >nan</td>\n",
       "                        <td id=\"T_f9576_row2_col1\" class=\"data row2 col1\" >-0.01</td>\n",
       "                        <td id=\"T_f9576_row2_col2\" class=\"data row2 col2\" >1.00</td>\n",
       "                        <td id=\"T_f9576_row2_col3\" class=\"data row2 col3\" >-0.00</td>\n",
       "                        <td id=\"T_f9576_row2_col4\" class=\"data row2 col4\" >0.51</td>\n",
       "                        <td id=\"T_f9576_row2_col5\" class=\"data row2 col5\" >0.50</td>\n",
       "                        <td id=\"T_f9576_row2_col6\" class=\"data row2 col6\" >0.04</td>\n",
       "                        <td id=\"T_f9576_row2_col7\" class=\"data row2 col7\" >0.04</td>\n",
       "                        <td id=\"T_f9576_row2_col8\" class=\"data row2 col8\" >0.30</td>\n",
       "                        <td id=\"T_f9576_row2_col9\" class=\"data row2 col9\" >0.68</td>\n",
       "                        <td id=\"T_f9576_row2_col10\" class=\"data row2 col10\" >0.31</td>\n",
       "                        <td id=\"T_f9576_row2_col11\" class=\"data row2 col11\" >0.21</td>\n",
       "                        <td id=\"T_f9576_row2_col12\" class=\"data row2 col12\" >0.22</td>\n",
       "                        <td id=\"T_f9576_row2_col13\" class=\"data row2 col13\" >0.20</td>\n",
       "                        <td id=\"T_f9576_row2_col14\" class=\"data row2 col14\" >-0.02</td>\n",
       "            </tr>\n",
       "            <tr>\n",
       "                        <th id=\"T_f9576_level0_row3\" class=\"row_heading level0 row3\" >Distance From Home (kms)</th>\n",
       "                        <td id=\"T_f9576_row3_col0\" class=\"data row3 col0\" >nan</td>\n",
       "                        <td id=\"T_f9576_row3_col1\" class=\"data row3 col1\" >0.03</td>\n",
       "                        <td id=\"T_f9576_row3_col2\" class=\"data row3 col2\" >-0.00</td>\n",
       "                        <td id=\"T_f9576_row3_col3\" class=\"data row3 col3\" >1.00</td>\n",
       "                        <td id=\"T_f9576_row3_col4\" class=\"data row3 col4\" >0.01</td>\n",
       "                        <td id=\"T_f9576_row3_col5\" class=\"data row3 col5\" >-0.02</td>\n",
       "                        <td id=\"T_f9576_row3_col6\" class=\"data row3 col6\" >0.02</td>\n",
       "                        <td id=\"T_f9576_row3_col7\" class=\"data row3 col7\" >0.04</td>\n",
       "                        <td id=\"T_f9576_row3_col8\" class=\"data row3 col8\" >-0.03</td>\n",
       "                        <td id=\"T_f9576_row3_col9\" class=\"data row3 col9\" >0.00</td>\n",
       "                        <td id=\"T_f9576_row3_col10\" class=\"data row3 col10\" >0.01</td>\n",
       "                        <td id=\"T_f9576_row3_col11\" class=\"data row3 col11\" >0.02</td>\n",
       "                        <td id=\"T_f9576_row3_col12\" class=\"data row3 col12\" >0.01</td>\n",
       "                        <td id=\"T_f9576_row3_col13\" class=\"data row3 col13\" >0.01</td>\n",
       "                        <td id=\"T_f9576_row3_col14\" class=\"data row3 col14\" >-0.04</td>\n",
       "            </tr>\n",
       "            <tr>\n",
       "                        <th id=\"T_f9576_level0_row4\" class=\"row_heading level0 row4\" >Job Level</th>\n",
       "                        <td id=\"T_f9576_row4_col0\" class=\"data row4 col0\" >nan</td>\n",
       "                        <td id=\"T_f9576_row4_col1\" class=\"data row4 col1\" >-0.02</td>\n",
       "                        <td id=\"T_f9576_row4_col2\" class=\"data row4 col2\" >0.51</td>\n",
       "                        <td id=\"T_f9576_row4_col3\" class=\"data row4 col3\" >0.01</td>\n",
       "                        <td id=\"T_f9576_row4_col4\" class=\"data row4 col4\" >1.00</td>\n",
       "                        <td id=\"T_f9576_row4_col5\" class=\"data row4 col5\" >0.95</td>\n",
       "                        <td id=\"T_f9576_row4_col6\" class=\"data row4 col6\" >0.01</td>\n",
       "                        <td id=\"T_f9576_row4_col7\" class=\"data row4 col7\" >0.01</td>\n",
       "                        <td id=\"T_f9576_row4_col8\" class=\"data row4 col8\" >0.14</td>\n",
       "                        <td id=\"T_f9576_row4_col9\" class=\"data row4 col9\" >0.78</td>\n",
       "                        <td id=\"T_f9576_row4_col10\" class=\"data row4 col10\" >0.53</td>\n",
       "                        <td id=\"T_f9576_row4_col11\" class=\"data row4 col11\" >0.39</td>\n",
       "                        <td id=\"T_f9576_row4_col12\" class=\"data row4 col12\" >0.35</td>\n",
       "                        <td id=\"T_f9576_row4_col13\" class=\"data row4 col13\" >0.38</td>\n",
       "                        <td id=\"T_f9576_row4_col14\" class=\"data row4 col14\" >-0.02</td>\n",
       "            </tr>\n",
       "            <tr>\n",
       "                        <th id=\"T_f9576_level0_row5\" class=\"row_heading level0 row5\" >Monthly Income (USD)</th>\n",
       "                        <td id=\"T_f9576_row5_col0\" class=\"data row5 col0\" >nan</td>\n",
       "                        <td id=\"T_f9576_row5_col1\" class=\"data row5 col1\" >-0.01</td>\n",
       "                        <td id=\"T_f9576_row5_col2\" class=\"data row5 col2\" >0.50</td>\n",
       "                        <td id=\"T_f9576_row5_col3\" class=\"data row5 col3\" >-0.02</td>\n",
       "                        <td id=\"T_f9576_row5_col4\" class=\"data row5 col4\" >0.95</td>\n",
       "                        <td id=\"T_f9576_row5_col5\" class=\"data row5 col5\" >1.00</td>\n",
       "                        <td id=\"T_f9576_row5_col6\" class=\"data row5 col6\" >0.02</td>\n",
       "                        <td id=\"T_f9576_row5_col7\" class=\"data row5 col7\" >0.01</td>\n",
       "                        <td id=\"T_f9576_row5_col8\" class=\"data row5 col8\" >0.15</td>\n",
       "                        <td id=\"T_f9576_row5_col9\" class=\"data row5 col9\" >0.77</td>\n",
       "                        <td id=\"T_f9576_row5_col10\" class=\"data row5 col10\" >0.51</td>\n",
       "                        <td id=\"T_f9576_row5_col11\" class=\"data row5 col11\" >0.36</td>\n",
       "                        <td id=\"T_f9576_row5_col12\" class=\"data row5 col12\" >0.34</td>\n",
       "                        <td id=\"T_f9576_row5_col13\" class=\"data row5 col13\" >0.34</td>\n",
       "                        <td id=\"T_f9576_row5_col14\" class=\"data row5 col14\" >-0.02</td>\n",
       "            </tr>\n",
       "            <tr>\n",
       "                        <th id=\"T_f9576_level0_row6\" class=\"row_heading level0 row6\" >Salary Hike (%)</th>\n",
       "                        <td id=\"T_f9576_row6_col0\" class=\"data row6 col0\" >nan</td>\n",
       "                        <td id=\"T_f9576_row6_col1\" class=\"data row6 col1\" >-0.00</td>\n",
       "                        <td id=\"T_f9576_row6_col2\" class=\"data row6 col2\" >0.04</td>\n",
       "                        <td id=\"T_f9576_row6_col3\" class=\"data row6 col3\" >0.02</td>\n",
       "                        <td id=\"T_f9576_row6_col4\" class=\"data row6 col4\" >0.01</td>\n",
       "                        <td id=\"T_f9576_row6_col5\" class=\"data row6 col5\" >0.02</td>\n",
       "                        <td id=\"T_f9576_row6_col6\" class=\"data row6 col6\" >1.00</td>\n",
       "                        <td id=\"T_f9576_row6_col7\" class=\"data row6 col7\" >0.04</td>\n",
       "                        <td id=\"T_f9576_row6_col8\" class=\"data row6 col8\" >-0.00</td>\n",
       "                        <td id=\"T_f9576_row6_col9\" class=\"data row6 col9\" >0.02</td>\n",
       "                        <td id=\"T_f9576_row6_col10\" class=\"data row6 col10\" >-0.00</td>\n",
       "                        <td id=\"T_f9576_row6_col11\" class=\"data row6 col11\" >0.03</td>\n",
       "                        <td id=\"T_f9576_row6_col12\" class=\"data row6 col12\" >0.00</td>\n",
       "                        <td id=\"T_f9576_row6_col13\" class=\"data row6 col13\" >0.02</td>\n",
       "                        <td id=\"T_f9576_row6_col14\" class=\"data row6 col14\" >0.01</td>\n",
       "            </tr>\n",
       "            <tr>\n",
       "                        <th id=\"T_f9576_level0_row7\" class=\"row_heading level0 row7\" >Stock Option Level</th>\n",
       "                        <td id=\"T_f9576_row7_col0\" class=\"data row7 col0\" >nan</td>\n",
       "                        <td id=\"T_f9576_row7_col1\" class=\"data row7 col1\" >0.06</td>\n",
       "                        <td id=\"T_f9576_row7_col2\" class=\"data row7 col2\" >0.04</td>\n",
       "                        <td id=\"T_f9576_row7_col3\" class=\"data row7 col3\" >0.04</td>\n",
       "                        <td id=\"T_f9576_row7_col4\" class=\"data row7 col4\" >0.01</td>\n",
       "                        <td id=\"T_f9576_row7_col5\" class=\"data row7 col5\" >0.01</td>\n",
       "                        <td id=\"T_f9576_row7_col6\" class=\"data row7 col6\" >0.04</td>\n",
       "                        <td id=\"T_f9576_row7_col7\" class=\"data row7 col7\" >1.00</td>\n",
       "                        <td id=\"T_f9576_row7_col8\" class=\"data row7 col8\" >0.03</td>\n",
       "                        <td id=\"T_f9576_row7_col9\" class=\"data row7 col9\" >0.01</td>\n",
       "                        <td id=\"T_f9576_row7_col10\" class=\"data row7 col10\" >0.02</td>\n",
       "                        <td id=\"T_f9576_row7_col11\" class=\"data row7 col11\" >0.05</td>\n",
       "                        <td id=\"T_f9576_row7_col12\" class=\"data row7 col12\" >0.01</td>\n",
       "                        <td id=\"T_f9576_row7_col13\" class=\"data row7 col13\" >0.02</td>\n",
       "                        <td id=\"T_f9576_row7_col14\" class=\"data row7 col14\" >0.01</td>\n",
       "            </tr>\n",
       "            <tr>\n",
       "                        <th id=\"T_f9576_level0_row8\" class=\"row_heading level0 row8\" >No. of Companies Worked</th>\n",
       "                        <td id=\"T_f9576_row8_col0\" class=\"data row8 col0\" >nan</td>\n",
       "                        <td id=\"T_f9576_row8_col1\" class=\"data row8 col1\" >0.00</td>\n",
       "                        <td id=\"T_f9576_row8_col2\" class=\"data row8 col2\" >0.30</td>\n",
       "                        <td id=\"T_f9576_row8_col3\" class=\"data row8 col3\" >-0.03</td>\n",
       "                        <td id=\"T_f9576_row8_col4\" class=\"data row8 col4\" >0.14</td>\n",
       "                        <td id=\"T_f9576_row8_col5\" class=\"data row8 col5\" >0.15</td>\n",
       "                        <td id=\"T_f9576_row8_col6\" class=\"data row8 col6\" >-0.00</td>\n",
       "                        <td id=\"T_f9576_row8_col7\" class=\"data row8 col7\" >0.03</td>\n",
       "                        <td id=\"T_f9576_row8_col8\" class=\"data row8 col8\" >1.00</td>\n",
       "                        <td id=\"T_f9576_row8_col9\" class=\"data row8 col9\" >0.24</td>\n",
       "                        <td id=\"T_f9576_row8_col10\" class=\"data row8 col10\" >-0.12</td>\n",
       "                        <td id=\"T_f9576_row8_col11\" class=\"data row8 col11\" >-0.09</td>\n",
       "                        <td id=\"T_f9576_row8_col12\" class=\"data row8 col12\" >-0.04</td>\n",
       "                        <td id=\"T_f9576_row8_col13\" class=\"data row8 col13\" >-0.11</td>\n",
       "                        <td id=\"T_f9576_row8_col14\" class=\"data row8 col14\" >-0.06</td>\n",
       "            </tr>\n",
       "            <tr>\n",
       "                        <th id=\"T_f9576_level0_row9\" class=\"row_heading level0 row9\" >Total Working Years</th>\n",
       "                        <td id=\"T_f9576_row9_col0\" class=\"data row9 col0\" >nan</td>\n",
       "                        <td id=\"T_f9576_row9_col1\" class=\"data row9 col1\" >-0.01</td>\n",
       "                        <td id=\"T_f9576_row9_col2\" class=\"data row9 col2\" >0.68</td>\n",
       "                        <td id=\"T_f9576_row9_col3\" class=\"data row9 col3\" >0.00</td>\n",
       "                        <td id=\"T_f9576_row9_col4\" class=\"data row9 col4\" >0.78</td>\n",
       "                        <td id=\"T_f9576_row9_col5\" class=\"data row9 col5\" >0.77</td>\n",
       "                        <td id=\"T_f9576_row9_col6\" class=\"data row9 col6\" >0.02</td>\n",
       "                        <td id=\"T_f9576_row9_col7\" class=\"data row9 col7\" >0.01</td>\n",
       "                        <td id=\"T_f9576_row9_col8\" class=\"data row9 col8\" >0.24</td>\n",
       "                        <td id=\"T_f9576_row9_col9\" class=\"data row9 col9\" >1.00</td>\n",
       "                        <td id=\"T_f9576_row9_col10\" class=\"data row9 col10\" >0.63</td>\n",
       "                        <td id=\"T_f9576_row9_col11\" class=\"data row9 col11\" >0.46</td>\n",
       "                        <td id=\"T_f9576_row9_col12\" class=\"data row9 col12\" >0.40</td>\n",
       "                        <td id=\"T_f9576_row9_col13\" class=\"data row9 col13\" >0.46</td>\n",
       "                        <td id=\"T_f9576_row9_col14\" class=\"data row9 col14\" >-0.04</td>\n",
       "            </tr>\n",
       "            <tr>\n",
       "                        <th id=\"T_f9576_level0_row10\" class=\"row_heading level0 row10\" >Years At Company</th>\n",
       "                        <td id=\"T_f9576_row10_col0\" class=\"data row10 col0\" >nan</td>\n",
       "                        <td id=\"T_f9576_row10_col1\" class=\"data row10 col1\" >-0.01</td>\n",
       "                        <td id=\"T_f9576_row10_col2\" class=\"data row10 col2\" >0.31</td>\n",
       "                        <td id=\"T_f9576_row10_col3\" class=\"data row10 col3\" >0.01</td>\n",
       "                        <td id=\"T_f9576_row10_col4\" class=\"data row10 col4\" >0.53</td>\n",
       "                        <td id=\"T_f9576_row10_col5\" class=\"data row10 col5\" >0.51</td>\n",
       "                        <td id=\"T_f9576_row10_col6\" class=\"data row10 col6\" >-0.00</td>\n",
       "                        <td id=\"T_f9576_row10_col7\" class=\"data row10 col7\" >0.02</td>\n",
       "                        <td id=\"T_f9576_row10_col8\" class=\"data row10 col8\" >-0.12</td>\n",
       "                        <td id=\"T_f9576_row10_col9\" class=\"data row10 col9\" >0.63</td>\n",
       "                        <td id=\"T_f9576_row10_col10\" class=\"data row10 col10\" >1.00</td>\n",
       "                        <td id=\"T_f9576_row10_col11\" class=\"data row10 col11\" >0.76</td>\n",
       "                        <td id=\"T_f9576_row10_col12\" class=\"data row10 col12\" >0.62</td>\n",
       "                        <td id=\"T_f9576_row10_col13\" class=\"data row10 col13\" >0.77</td>\n",
       "                        <td id=\"T_f9576_row10_col14\" class=\"data row10 col14\" >0.00</td>\n",
       "            </tr>\n",
       "            <tr>\n",
       "                        <th id=\"T_f9576_level0_row11\" class=\"row_heading level0 row11\" >Years In Current Role</th>\n",
       "                        <td id=\"T_f9576_row11_col0\" class=\"data row11 col0\" >nan</td>\n",
       "                        <td id=\"T_f9576_row11_col1\" class=\"data row11 col1\" >-0.01</td>\n",
       "                        <td id=\"T_f9576_row11_col2\" class=\"data row11 col2\" >0.21</td>\n",
       "                        <td id=\"T_f9576_row11_col3\" class=\"data row11 col3\" >0.02</td>\n",
       "                        <td id=\"T_f9576_row11_col4\" class=\"data row11 col4\" >0.39</td>\n",
       "                        <td id=\"T_f9576_row11_col5\" class=\"data row11 col5\" >0.36</td>\n",
       "                        <td id=\"T_f9576_row11_col6\" class=\"data row11 col6\" >0.03</td>\n",
       "                        <td id=\"T_f9576_row11_col7\" class=\"data row11 col7\" >0.05</td>\n",
       "                        <td id=\"T_f9576_row11_col8\" class=\"data row11 col8\" >-0.09</td>\n",
       "                        <td id=\"T_f9576_row11_col9\" class=\"data row11 col9\" >0.46</td>\n",
       "                        <td id=\"T_f9576_row11_col10\" class=\"data row11 col10\" >0.76</td>\n",
       "                        <td id=\"T_f9576_row11_col11\" class=\"data row11 col11\" >1.00</td>\n",
       "                        <td id=\"T_f9576_row11_col12\" class=\"data row11 col12\" >0.55</td>\n",
       "                        <td id=\"T_f9576_row11_col13\" class=\"data row11 col13\" >0.71</td>\n",
       "                        <td id=\"T_f9576_row11_col14\" class=\"data row11 col14\" >-0.01</td>\n",
       "            </tr>\n",
       "            <tr>\n",
       "                        <th id=\"T_f9576_level0_row12\" class=\"row_heading level0 row12\" >Years Since Last Promotion</th>\n",
       "                        <td id=\"T_f9576_row12_col0\" class=\"data row12 col0\" >nan</td>\n",
       "                        <td id=\"T_f9576_row12_col1\" class=\"data row12 col1\" >-0.01</td>\n",
       "                        <td id=\"T_f9576_row12_col2\" class=\"data row12 col2\" >0.22</td>\n",
       "                        <td id=\"T_f9576_row12_col3\" class=\"data row12 col3\" >0.01</td>\n",
       "                        <td id=\"T_f9576_row12_col4\" class=\"data row12 col4\" >0.35</td>\n",
       "                        <td id=\"T_f9576_row12_col5\" class=\"data row12 col5\" >0.34</td>\n",
       "                        <td id=\"T_f9576_row12_col6\" class=\"data row12 col6\" >0.00</td>\n",
       "                        <td id=\"T_f9576_row12_col7\" class=\"data row12 col7\" >0.01</td>\n",
       "                        <td id=\"T_f9576_row12_col8\" class=\"data row12 col8\" >-0.04</td>\n",
       "                        <td id=\"T_f9576_row12_col9\" class=\"data row12 col9\" >0.40</td>\n",
       "                        <td id=\"T_f9576_row12_col10\" class=\"data row12 col10\" >0.62</td>\n",
       "                        <td id=\"T_f9576_row12_col11\" class=\"data row12 col11\" >0.55</td>\n",
       "                        <td id=\"T_f9576_row12_col12\" class=\"data row12 col12\" >1.00</td>\n",
       "                        <td id=\"T_f9576_row12_col13\" class=\"data row12 col13\" >0.51</td>\n",
       "                        <td id=\"T_f9576_row12_col14\" class=\"data row12 col14\" >-0.00</td>\n",
       "            </tr>\n",
       "            <tr>\n",
       "                        <th id=\"T_f9576_level0_row13\" class=\"row_heading level0 row13\" >Years With Curr Manager</th>\n",
       "                        <td id=\"T_f9576_row13_col0\" class=\"data row13 col0\" >nan</td>\n",
       "                        <td id=\"T_f9576_row13_col1\" class=\"data row13 col1\" >-0.01</td>\n",
       "                        <td id=\"T_f9576_row13_col2\" class=\"data row13 col2\" >0.20</td>\n",
       "                        <td id=\"T_f9576_row13_col3\" class=\"data row13 col3\" >0.01</td>\n",
       "                        <td id=\"T_f9576_row13_col4\" class=\"data row13 col4\" >0.38</td>\n",
       "                        <td id=\"T_f9576_row13_col5\" class=\"data row13 col5\" >0.34</td>\n",
       "                        <td id=\"T_f9576_row13_col6\" class=\"data row13 col6\" >0.02</td>\n",
       "                        <td id=\"T_f9576_row13_col7\" class=\"data row13 col7\" >0.02</td>\n",
       "                        <td id=\"T_f9576_row13_col8\" class=\"data row13 col8\" >-0.11</td>\n",
       "                        <td id=\"T_f9576_row13_col9\" class=\"data row13 col9\" >0.46</td>\n",
       "                        <td id=\"T_f9576_row13_col10\" class=\"data row13 col10\" >0.77</td>\n",
       "                        <td id=\"T_f9576_row13_col11\" class=\"data row13 col11\" >0.71</td>\n",
       "                        <td id=\"T_f9576_row13_col12\" class=\"data row13 col12\" >0.51</td>\n",
       "                        <td id=\"T_f9576_row13_col13\" class=\"data row13 col13\" >1.00</td>\n",
       "                        <td id=\"T_f9576_row13_col14\" class=\"data row13 col14\" >-0.00</td>\n",
       "            </tr>\n",
       "            <tr>\n",
       "                        <th id=\"T_f9576_level0_row14\" class=\"row_heading level0 row14\" >Training Times Last Year</th>\n",
       "                        <td id=\"T_f9576_row14_col0\" class=\"data row14 col0\" >nan</td>\n",
       "                        <td id=\"T_f9576_row14_col1\" class=\"data row14 col1\" >0.02</td>\n",
       "                        <td id=\"T_f9576_row14_col2\" class=\"data row14 col2\" >-0.02</td>\n",
       "                        <td id=\"T_f9576_row14_col3\" class=\"data row14 col3\" >-0.04</td>\n",
       "                        <td id=\"T_f9576_row14_col4\" class=\"data row14 col4\" >-0.02</td>\n",
       "                        <td id=\"T_f9576_row14_col5\" class=\"data row14 col5\" >-0.02</td>\n",
       "                        <td id=\"T_f9576_row14_col6\" class=\"data row14 col6\" >0.01</td>\n",
       "                        <td id=\"T_f9576_row14_col7\" class=\"data row14 col7\" >0.01</td>\n",
       "                        <td id=\"T_f9576_row14_col8\" class=\"data row14 col8\" >-0.06</td>\n",
       "                        <td id=\"T_f9576_row14_col9\" class=\"data row14 col9\" >-0.04</td>\n",
       "                        <td id=\"T_f9576_row14_col10\" class=\"data row14 col10\" >0.00</td>\n",
       "                        <td id=\"T_f9576_row14_col11\" class=\"data row14 col11\" >-0.01</td>\n",
       "                        <td id=\"T_f9576_row14_col12\" class=\"data row14 col12\" >-0.00</td>\n",
       "                        <td id=\"T_f9576_row14_col13\" class=\"data row14 col13\" >-0.00</td>\n",
       "                        <td id=\"T_f9576_row14_col14\" class=\"data row14 col14\" >1.00</td>\n",
       "            </tr>\n",
       "    </tbody></table>"
      ],
      "text/plain": [
       "<pandas.io.formats.style.Styler at 0x274d92a0580>"
      ]
     },
     "execution_count": 13,
     "metadata": {},
     "output_type": "execute_result"
    }
   ],
   "source": [
    "corr = data.corr()\n",
    "corr.style.background_gradient(cmap=\"coolwarm\").set_precision(2)"
   ]
  },
  {
   "cell_type": "markdown",
   "id": "d8b08712",
   "metadata": {},
   "source": [
    "***correlation matrics using seaborn***"
   ]
  },
  {
   "cell_type": "code",
   "execution_count": 14,
   "id": "fb4c5489",
   "metadata": {},
   "outputs": [
    {
     "data": {
      "image/png": "[encoded data removed]",
      "text/plain": [
       "<Figure size 1440x1080 with 2 Axes>"
      ]
     },
     "metadata": {
      "needs_background": "light"
     },
     "output_type": "display_data"
    }
   ],
   "source": [
    "plt.figure(figsize=(20,15))\n",
    "sns.heatmap(corr, annot=True, fmt=\".1%\")\n",
    "plt.show()"
   ]
  },
  {
   "cell_type": "markdown",
   "id": "06ee2c76",
   "metadata": {},
   "source": [
    "# Scatter plot\n",
    "\n",
    "- 1) A scatter plot is a type of plot using Cartesian coordinates to display values for typically two variables for a set of data.\n",
    "\n",
    "- 2) The data are displayed as a collection of points, each having the value of one variable determining the position on the horizontal axis and the value of the other variable determining the position on the vertical axis.\n",
    "\n",
    "- 3) Scatter plot's are used to observe and show relationships between two numeric variables.\n"
   ]
  },
  {
   "cell_type": "code",
   "execution_count": 15,
   "id": "11a76385",
   "metadata": {},
   "outputs": [
    {
     "data": {
      "image/png": "[encoded data removed]",
      "text/plain": [
       "<Figure size 864x432 with 1 Axes>"
      ]
     },
     "metadata": {
      "needs_background": "light"
     },
     "output_type": "display_data"
    }
   ],
   "source": [
    "data.plot.scatter(x=\"Age\", y=\"No. of Companies Worked\", cmap=\"coolwarm\", figsize=(12,6))\n",
    "plt.show()"
   ]
  },
  {
   "cell_type": "code",
   "execution_count": 16,
   "id": "3f00e367",
   "metadata": {},
   "outputs": [
    {
     "data": {
      "image/png": "[encoded data removed]",
      "text/plain": [
       "<Figure size 864x432 with 1 Axes>"
      ]
     },
     "metadata": {
      "needs_background": "light"
     },
     "output_type": "display_data"
    }
   ],
   "source": [
    "data.plot.scatter(x=\"Age\", y=\"Monthly Income (USD)\", cmap=\"coolwarm\", figsize=(12,6))\n",
    "plt.show()"
   ]
  },
  {
   "cell_type": "code",
   "execution_count": 17,
   "id": "740d5598",
   "metadata": {},
   "outputs": [
    {
     "data": {
      "image/png": "[encoded data removed]",
      "text/plain": [
       "<Figure size 864x432 with 1 Axes>"
      ]
     },
     "metadata": {
      "needs_background": "light"
     },
     "output_type": "display_data"
    }
   ],
   "source": [
    "data.plot.scatter(x=\"Age\", y=\"Job Level\", cmap=\"coolwarm\", figsize=(12,6))\n",
    "plt.show()"
   ]
  },
  {
   "cell_type": "markdown",
   "id": "5fff8187",
   "metadata": {},
   "source": [
    "***count plot on Attrition (Yes/No) column***"
   ]
  },
  {
   "cell_type": "code",
   "execution_count": 18,
   "id": "ec7decce",
   "metadata": {},
   "outputs": [
    {
     "data": {
      "image/png": "[encoded data removed]",
      "text/plain": [
       "<Figure size 432x288 with 1 Axes>"
      ]
     },
     "metadata": {
      "needs_background": "light"
     },
     "output_type": "display_data"
    }
   ],
   "source": [
    "sns.countplot(data[\"Attrition (Yes/No)\"], hue=data[\"No. of Companies Worked\"])\n",
    "plt.show()"
   ]
  },
  {
   "cell_type": "markdown",
   "id": "106e61d8",
   "metadata": {},
   "source": [
    "***count plot on Gender column***"
   ]
  },
  {
   "cell_type": "code",
   "execution_count": 19,
   "id": "9cf772a4",
   "metadata": {},
   "outputs": [
    {
     "data": {
      "image/png": "[encoded data removed]",
      "text/plain": [
       "<Figure size 432x288 with 1 Axes>"
      ]
     },
     "metadata": {
      "needs_background": "light"
     },
     "output_type": "display_data"
    }
   ],
   "source": [
    "sns.countplot(data[\"Gender\"], hue=data[\"Attrition (Yes/No)\"])\n",
    "plt.show()"
   ]
  },
  {
   "cell_type": "markdown",
   "id": "187d7624",
   "metadata": {},
   "source": [
    "***count plot on Marital Status***"
   ]
  },
  {
   "cell_type": "code",
   "execution_count": 20,
   "id": "3d3b33e7",
   "metadata": {},
   "outputs": [
    {
     "data": {
      "image/png": "[encoded data removed]",
      "text/plain": [
       "<Figure size 432x288 with 1 Axes>"
      ]
     },
     "metadata": {
      "needs_background": "light"
     },
     "output_type": "display_data"
    }
   ],
   "source": [
    "sns.countplot(data[\"Marital Status\"])\n",
    "plt.show()"
   ]
  },
  {
   "cell_type": "markdown",
   "id": "ff5b0c34",
   "metadata": {},
   "source": [
    "***count plot on Marital Status***"
   ]
  },
  {
   "cell_type": "code",
   "execution_count": 21,
   "id": "80491ea2",
   "metadata": {},
   "outputs": [
    {
     "data": {
      "image/png": "[encoded data removed]",
      "text/plain": [
       "<Figure size 432x288 with 1 Axes>"
      ]
     },
     "metadata": {
      "needs_background": "light"
     },
     "output_type": "display_data"
    }
   ],
   "source": [
    "sns.countplot(data[\"Marital Status\"], hue=data[\"Attrition (Yes/No)\"])\n",
    "plt.show()"
   ]
  },
  {
   "cell_type": "markdown",
   "id": "17896dde",
   "metadata": {},
   "source": [
    "***count plot on Job Satisfaction***"
   ]
  },
  {
   "cell_type": "code",
   "execution_count": 22,
   "id": "048fdf29",
   "metadata": {},
   "outputs": [
    {
     "data": {
      "image/png": "[encoded data removed]",
      "text/plain": [
       "<Figure size 432x288 with 1 Axes>"
      ]
     },
     "metadata": {
      "needs_background": "light"
     },
     "output_type": "display_data"
    }
   ],
   "source": [
    "sns.countplot(data[\"Job Satisfaction\"])\n",
    "plt.show()"
   ]
  },
  {
   "cell_type": "markdown",
   "id": "ddd60329",
   "metadata": {},
   "source": [
    "***count plot on Job Satisfaction***"
   ]
  },
  {
   "cell_type": "code",
   "execution_count": 23,
   "id": "8db0d624",
   "metadata": {},
   "outputs": [
    {
     "data": {
      "image/png": "[encoded data removed]",
      "text/plain": [
       "<Figure size 432x288 with 1 Axes>"
      ]
     },
     "metadata": {
      "needs_background": "light"
     },
     "output_type": "display_data"
    }
   ],
   "source": [
    "sns.countplot(data[\"Job Satisfaction\"], hue=data[\"Attrition (Yes/No)\"])\n",
    "plt.show()"
   ]
  },
  {
   "cell_type": "markdown",
   "id": "6e3ece06",
   "metadata": {},
   "source": [
    "***count plot on Over Time***"
   ]
  },
  {
   "cell_type": "code",
   "execution_count": 24,
   "id": "f43c4744",
   "metadata": {},
   "outputs": [
    {
     "data": {
      "image/png": "[encoded data removed]",
      "text/plain": [
       "<Figure size 432x288 with 1 Axes>"
      ]
     },
     "metadata": {
      "needs_background": "light"
     },
     "output_type": "display_data"
    }
   ],
   "source": [
    "sns.countplot(data[\"Over Time\"])\n",
    "plt.show()"
   ]
  },
  {
   "cell_type": "markdown",
   "id": "10e5e1f6",
   "metadata": {},
   "source": [
    "***count plot on Over Time***"
   ]
  },
  {
   "cell_type": "code",
   "execution_count": 25,
   "id": "91b5a7e6",
   "metadata": {},
   "outputs": [
    {
     "data": {
      "image/png": "[encoded data removed]",
      "text/plain": [
       "<Figure size 432x288 with 1 Axes>"
      ]
     },
     "metadata": {
      "needs_background": "light"
     },
     "output_type": "display_data"
    }
   ],
   "source": [
    "sns.countplot(data[\"Over Time\"], hue=data[\"Attrition (Yes/No)\"])\n",
    "plt.show()"
   ]
  },
  {
   "cell_type": "markdown",
   "id": "08ede68c",
   "metadata": {},
   "source": [
    "***Show the number of employees that left and stayed by age***"
   ]
  },
  {
   "cell_type": "code",
   "execution_count": 26,
   "id": "088f21d9",
   "metadata": {},
   "outputs": [
    {
     "data": {
      "image/png": "[encoded data removed]",
      "text/plain": [
       "<Figure size 1440x432 with 1 Axes>"
      ]
     },
     "metadata": {
      "needs_background": "light"
     },
     "output_type": "display_data"
    }
   ],
   "source": [
    "plt.figure(figsize=(20,6))\n",
    "sns.countplot(x=\"Age\", hue=\"Attrition (Yes/No)\", data=data)\n",
    "plt.show()"
   ]
  },
  {
   "cell_type": "code",
   "execution_count": 27,
   "id": "660afff7",
   "metadata": {
    "scrolled": false
   },
   "outputs": [
    {
     "name": "stdout",
     "output_type": "stream",
     "text": [
      "Department : ['Sales' 'Research & Development' 'Human Resources']\n",
      "Research & Development    961\n",
      "Sales                     446\n",
      "Human Resources            63\n",
      "Name: Department, dtype: int64\n",
      "\n",
      "____________________________________________________________\n",
      "\n",
      "Job Role : ['Sales Executive' 'Research Scientist' 'Laboratory Technician'\n",
      " 'Manufacturing Director' 'Healthcare Representative' 'Manager'\n",
      " 'Sales Representative' 'Research Director' 'Human Resources']\n",
      "Sales Executive              326\n",
      "Research Scientist           292\n",
      "Laboratory Technician        259\n",
      "Manufacturing Director       145\n",
      "Healthcare Representative    131\n",
      "Manager                      102\n",
      "Sales Representative          83\n",
      "Research Director             80\n",
      "Human Resources               52\n",
      "Name: Job Role, dtype: int64\n",
      "\n",
      "____________________________________________________________\n",
      "\n",
      "Gender : ['Female' 'Male']\n",
      "Male      882\n",
      "Female    588\n",
      "Name: Gender, dtype: int64\n",
      "\n",
      "____________________________________________________________\n",
      "\n",
      "Marital Status : ['Single' 'Married' 'Divorced']\n",
      "Married     673\n",
      "Single      470\n",
      "Divorced    327\n",
      "Name: Marital Status, dtype: int64\n",
      "\n",
      "____________________________________________________________\n",
      "\n",
      "Education : ['College' 'Below College' 'Master' 'Bachelor' 'Doctor']\n",
      "Bachelor         572\n",
      "Master           398\n",
      "College          282\n",
      "Below College    170\n",
      "Doctor            48\n",
      "Name: Education, dtype: int64\n",
      "\n",
      "____________________________________________________________\n",
      "\n",
      "Education Field : ['Life Sciences' 'Other' 'Medical' 'Marketing' 'Technical Degree'\n",
      " 'Human Resources']\n",
      "Life Sciences       606\n",
      "Medical             464\n",
      "Marketing           159\n",
      "Technical Degree    132\n",
      "Other                82\n",
      "Human Resources      27\n",
      "Name: Education Field, dtype: int64\n",
      "\n",
      "____________________________________________________________\n",
      "\n",
      "Business Travel : ['Travel_Rarely' 'Travel_Frequently' 'Non-Travel']\n",
      "Travel_Rarely        1043\n",
      "Travel_Frequently     277\n",
      "Non-Travel            150\n",
      "Name: Business Travel, dtype: int64\n",
      "\n",
      "____________________________________________________________\n",
      "\n",
      "Job Involvement : ['High' 'Medium' 'Very High' 'Low']\n",
      "High         868\n",
      "Medium       375\n",
      "Very High    144\n",
      "Low           83\n",
      "Name: Job Involvement, dtype: int64\n",
      "\n",
      "____________________________________________________________\n",
      "\n",
      "Job Satisfaction : ['Very High' 'Medium' 'High' 'Low']\n",
      "Very High    459\n",
      "High         442\n",
      "Low          289\n",
      "Medium       280\n",
      "Name: Job Satisfaction, dtype: int64\n",
      "\n",
      "____________________________________________________________\n",
      "\n",
      "Over Time : ['Yes' 'No']\n",
      "No     1054\n",
      "Yes     416\n",
      "Name: Over Time, dtype: int64\n",
      "\n",
      "____________________________________________________________\n",
      "\n",
      "Environment Satisfaction : ['Medium' 'High' 'Low' 'Very High']\n",
      "High         451\n",
      "Very High    444\n",
      "Low          288\n",
      "Medium       287\n",
      "Name: Environment Satisfaction, dtype: int64\n",
      "\n",
      "____________________________________________________________\n",
      "\n",
      "Work Life Balance : ['Bad' 'Better' 'Good' 'Best']\n",
      "Better    820\n",
      "Good      341\n",
      "Bad       177\n",
      "Best      132\n",
      "Name: Work Life Balance, dtype: int64\n",
      "\n",
      "____________________________________________________________\n",
      "\n",
      "Relationship Satisfaction : ['Low' 'Very High' 'Medium' 'High']\n",
      "High         426\n",
      "Very High    370\n",
      "Low          346\n",
      "Medium       328\n",
      "Name: Relationship Satisfaction, dtype: int64\n",
      "\n",
      "____________________________________________________________\n",
      "\n",
      "Attrition (Yes/No) : ['Yes' 'No']\n",
      "No     1233\n",
      "Yes     237\n",
      "Name: Attrition (Yes/No), dtype: int64\n",
      "\n",
      "____________________________________________________________\n",
      "\n"
     ]
    }
   ],
   "source": [
    "#Print all of the data types and their unique value\n",
    "for column in data.columns:\n",
    "    if data[column].dtype == object:\n",
    "        print(str(column) + ' : ' + str(data[column].unique()))\n",
    "        print(data[column].value_counts())\n",
    "        print(\"\\n____________________________________________________________\\n\")"
   ]
  },
  {
   "cell_type": "code",
   "execution_count": 28,
   "id": "cf202fbf",
   "metadata": {},
   "outputs": [],
   "source": [
    "def correlation(dataset, threshold):\n",
    "    col_corr = set()\n",
    "    corr_matrix = dataset.corr()\n",
    "    for i in range(len(corr_matrix.columns)):\n",
    "        for j in range(i):\n",
    "            if abs(corr_matrix.iloc[i,j]) > threshold:\n",
    "                colname = corr_matrix.columns[i]\n",
    "                col_corr.add(colname)\n",
    "    return col_corr"
   ]
  },
  {
   "cell_type": "code",
   "execution_count": 29,
   "id": "be997c4b",
   "metadata": {},
   "outputs": [],
   "source": [
    "corr_feature = correlation(data, 0.5)"
   ]
  },
  {
   "cell_type": "markdown",
   "id": "adc0f8d6",
   "metadata": {},
   "source": [
    "## Highly Correlated Numerical columns\n",
    "- 1) Job Level\n",
    "- 2) Months Incode (USD)\n",
    "- 3) Total Working Years\n",
    "- 4) Years At Company\n",
    "- 5) Years In Current Role\n",
    "- 6) Years Since Last Promotion\n",
    "- 7) Years With Curr Manager\n",
    "- 8) No. of Companies Worked { This column is not highly correlated. i think this less good feature for this problem solve }\n",
    "- 9) Age { I don't know why i am taking this feature. becouse it is not a highly correlated feature but still i am using this feature :-( }\n",
    "\n",
    "## Unecessary Numerical columns ( We have to drop this columns )\n",
    "- 1) Employee Count\n",
    "- 2) Employee ID\n",
    "- 3) Distance From Home (kms)\n",
    "- 4) Salary Hike (%)\n",
    "- 5) Stock Option Level\n",
    "- 6) Training Times Last Year"
   ]
  },
  {
   "cell_type": "code",
   "execution_count": 30,
   "id": "16fa9c67",
   "metadata": {},
   "outputs": [],
   "source": [
    "data = data.drop(columns=[\"Employee Count\", \"Employee ID\", \"Distance From Home (kms)\", \"Salary Hike (%)\", \"Stock Option Level\", \n",
    "                   \"Training Times Last Year\"])"
   ]
  },
  {
   "cell_type": "code",
   "execution_count": 31,
   "id": "876c607e",
   "metadata": {},
   "outputs": [],
   "source": [
    "data.drop(data[data[\"Age\"] < 10].index, inplace=True)"
   ]
  },
  {
   "cell_type": "markdown",
   "id": "137a2b61",
   "metadata": {},
   "source": [
    "***Convert Attrition Categorical column to numerical***"
   ]
  },
  {
   "cell_type": "code",
   "execution_count": 32,
   "id": "89b96a5c",
   "metadata": {},
   "outputs": [],
   "source": [
    "def DataFrame(cols):\n",
    "    if cols == \"Yes\":\n",
    "        return 1\n",
    "    else:\n",
    "        return 0"
   ]
  },
  {
   "cell_type": "code",
   "execution_count": 33,
   "id": "c6a703d6",
   "metadata": {},
   "outputs": [],
   "source": [
    "data[\"Attrition (Yes/No)\"] = data[\"Attrition (Yes/No)\"].apply(DataFrame)"
   ]
  },
  {
   "cell_type": "code",
   "execution_count": 34,
   "id": "e2db3296",
   "metadata": {},
   "outputs": [
    {
     "data": {
      "text/html": [
       "<div>\n",
       "<style scoped>\n",
       "    .dataframe tbody tr th:only-of-type {\n",
       "        vertical-align: middle;\n",
       "    }\n",
       "\n",
       "    .dataframe tbody tr th {\n",
       "        vertical-align: top;\n",
       "    }\n",
       "\n",
       "    .dataframe thead th {\n",
       "        text-align: right;\n",
       "    }\n",
       "</style>\n",
       "<table border=\"1\" class=\"dataframe\">\n",
       "  <thead>\n",
       "    <tr style=\"text-align: right;\">\n",
       "      <th></th>\n",
       "      <th>Department</th>\n",
       "      <th>Job Role</th>\n",
       "      <th>Gender</th>\n",
       "      <th>Age</th>\n",
       "      <th>Marital Status</th>\n",
       "      <th>Education</th>\n",
       "      <th>Education Field</th>\n",
       "      <th>Business Travel</th>\n",
       "      <th>Job Involvement</th>\n",
       "      <th>Job Level</th>\n",
       "      <th>Job Satisfaction</th>\n",
       "      <th>Monthly Income (USD)</th>\n",
       "      <th>Over Time</th>\n",
       "      <th>No. of Companies Worked</th>\n",
       "      <th>Total Working Years</th>\n",
       "      <th>Years At Company</th>\n",
       "      <th>Years In Current Role</th>\n",
       "      <th>Years Since Last Promotion</th>\n",
       "      <th>Years With Curr Manager</th>\n",
       "      <th>Environment Satisfaction</th>\n",
       "      <th>Work Life Balance</th>\n",
       "      <th>Relationship Satisfaction</th>\n",
       "      <th>Attrition (Yes/No)</th>\n",
       "    </tr>\n",
       "  </thead>\n",
       "  <tbody>\n",
       "    <tr>\n",
       "      <th>65</th>\n",
       "      <td>Research &amp; Development</td>\n",
       "      <td>Manager</td>\n",
       "      <td>Female</td>\n",
       "      <td>55</td>\n",
       "      <td>Divorced</td>\n",
       "      <td>Bachelor</td>\n",
       "      <td>Medical</td>\n",
       "      <td>Travel_Rarely</td>\n",
       "      <td>High</td>\n",
       "      <td>4</td>\n",
       "      <td>High</td>\n",
       "      <td>14756</td>\n",
       "      <td>Yes</td>\n",
       "      <td>2</td>\n",
       "      <td>21</td>\n",
       "      <td>5</td>\n",
       "      <td>0</td>\n",
       "      <td>0</td>\n",
       "      <td>2</td>\n",
       "      <td>Very High</td>\n",
       "      <td>Better</td>\n",
       "      <td>High</td>\n",
       "      <td>0</td>\n",
       "    </tr>\n",
       "    <tr>\n",
       "      <th>1242</th>\n",
       "      <td>Sales</td>\n",
       "      <td>Manager</td>\n",
       "      <td>Male</td>\n",
       "      <td>40</td>\n",
       "      <td>Single</td>\n",
       "      <td>Master</td>\n",
       "      <td>Medical</td>\n",
       "      <td>Travel_Rarely</td>\n",
       "      <td>High</td>\n",
       "      <td>5</td>\n",
       "      <td>Medium</td>\n",
       "      <td>19833</td>\n",
       "      <td>No</td>\n",
       "      <td>1</td>\n",
       "      <td>21</td>\n",
       "      <td>21</td>\n",
       "      <td>8</td>\n",
       "      <td>12</td>\n",
       "      <td>8</td>\n",
       "      <td>Medium</td>\n",
       "      <td>Good</td>\n",
       "      <td>Medium</td>\n",
       "      <td>0</td>\n",
       "    </tr>\n",
       "    <tr>\n",
       "      <th>1258</th>\n",
       "      <td>Research &amp; Development</td>\n",
       "      <td>Research Scientist</td>\n",
       "      <td>Female</td>\n",
       "      <td>29</td>\n",
       "      <td>Divorced</td>\n",
       "      <td>Bachelor</td>\n",
       "      <td>Technical Degree</td>\n",
       "      <td>Travel_Rarely</td>\n",
       "      <td>Medium</td>\n",
       "      <td>1</td>\n",
       "      <td>Low</td>\n",
       "      <td>2109</td>\n",
       "      <td>No</td>\n",
       "      <td>1</td>\n",
       "      <td>1</td>\n",
       "      <td>1</td>\n",
       "      <td>0</td>\n",
       "      <td>0</td>\n",
       "      <td>0</td>\n",
       "      <td>Very High</td>\n",
       "      <td>Better</td>\n",
       "      <td>High</td>\n",
       "      <td>0</td>\n",
       "    </tr>\n",
       "    <tr>\n",
       "      <th>1049</th>\n",
       "      <td>Sales</td>\n",
       "      <td>Sales Executive</td>\n",
       "      <td>Male</td>\n",
       "      <td>30</td>\n",
       "      <td>Married</td>\n",
       "      <td>Below College</td>\n",
       "      <td>Life Sciences</td>\n",
       "      <td>Travel_Rarely</td>\n",
       "      <td>High</td>\n",
       "      <td>2</td>\n",
       "      <td>High</td>\n",
       "      <td>5301</td>\n",
       "      <td>No</td>\n",
       "      <td>8</td>\n",
       "      <td>4</td>\n",
       "      <td>2</td>\n",
       "      <td>1</td>\n",
       "      <td>2</td>\n",
       "      <td>2</td>\n",
       "      <td>Very High</td>\n",
       "      <td>Good</td>\n",
       "      <td>High</td>\n",
       "      <td>0</td>\n",
       "    </tr>\n",
       "    <tr>\n",
       "      <th>1181</th>\n",
       "      <td>Research &amp; Development</td>\n",
       "      <td>Healthcare Representative</td>\n",
       "      <td>Female</td>\n",
       "      <td>49</td>\n",
       "      <td>Married</td>\n",
       "      <td>Below College</td>\n",
       "      <td>Life Sciences</td>\n",
       "      <td>Travel_Rarely</td>\n",
       "      <td>Medium</td>\n",
       "      <td>4</td>\n",
       "      <td>High</td>\n",
       "      <td>13966</td>\n",
       "      <td>Yes</td>\n",
       "      <td>2</td>\n",
       "      <td>30</td>\n",
       "      <td>15</td>\n",
       "      <td>11</td>\n",
       "      <td>2</td>\n",
       "      <td>12</td>\n",
       "      <td>High</td>\n",
       "      <td>Better</td>\n",
       "      <td>Medium</td>\n",
       "      <td>0</td>\n",
       "    </tr>\n",
       "  </tbody>\n",
       "</table>\n",
       "</div>"
      ],
      "text/plain": [
       "                  Department                   Job Role  Gender  Age  \\\n",
       "65    Research & Development                    Manager  Female   55   \n",
       "1242                   Sales                    Manager    Male   40   \n",
       "1258  Research & Development         Research Scientist  Female   29   \n",
       "1049                   Sales            Sales Executive    Male   30   \n",
       "1181  Research & Development  Healthcare Representative  Female   49   \n",
       "\n",
       "     Marital Status      Education   Education Field Business Travel  \\\n",
       "65         Divorced       Bachelor           Medical   Travel_Rarely   \n",
       "1242         Single         Master           Medical   Travel_Rarely   \n",
       "1258       Divorced       Bachelor  Technical Degree   Travel_Rarely   \n",
       "1049        Married  Below College     Life Sciences   Travel_Rarely   \n",
       "1181        Married  Below College     Life Sciences   Travel_Rarely   \n",
       "\n",
       "     Job Involvement  Job Level Job Satisfaction  Monthly Income (USD)  \\\n",
       "65              High          4             High                 14756   \n",
       "1242            High          5           Medium                 19833   \n",
       "1258          Medium          1              Low                  2109   \n",
       "1049            High          2             High                  5301   \n",
       "1181          Medium          4             High                 13966   \n",
       "\n",
       "     Over Time  No. of Companies Worked  Total Working Years  \\\n",
       "65         Yes                        2                   21   \n",
       "1242        No                        1                   21   \n",
       "1258        No                        1                    1   \n",
       "1049        No                        8                    4   \n",
       "1181       Yes                        2                   30   \n",
       "\n",
       "      Years At Company  Years In Current Role  Years Since Last Promotion  \\\n",
       "65                   5                      0                           0   \n",
       "1242                21                      8                          12   \n",
       "1258                 1                      0                           0   \n",
       "1049                 2                      1                           2   \n",
       "1181                15                     11                           2   \n",
       "\n",
       "      Years With Curr Manager Environment Satisfaction Work Life Balance  \\\n",
       "65                          2                Very High            Better   \n",
       "1242                        8                   Medium              Good   \n",
       "1258                        0                Very High            Better   \n",
       "1049                        2                Very High              Good   \n",
       "1181                       12                     High            Better   \n",
       "\n",
       "     Relationship Satisfaction  Attrition (Yes/No)  \n",
       "65                        High                   0  \n",
       "1242                    Medium                   0  \n",
       "1258                      High                   0  \n",
       "1049                      High                   0  \n",
       "1181                    Medium                   0  "
      ]
     },
     "execution_count": 34,
     "metadata": {},
     "output_type": "execute_result"
    }
   ],
   "source": [
    "data.sample(5)"
   ]
  },
  {
   "cell_type": "code",
   "execution_count": 35,
   "id": "9cdbb715",
   "metadata": {},
   "outputs": [],
   "source": [
    "X = data.drop(columns=[\"Attrition (Yes/No)\"])\n",
    "y = data[\"Attrition (Yes/No)\"]"
   ]
  },
  {
   "cell_type": "code",
   "execution_count": 36,
   "id": "8e3a2713",
   "metadata": {},
   "outputs": [],
   "source": [
    "from sklearn.model_selection import train_test_split"
   ]
  },
  {
   "cell_type": "code",
   "execution_count": 37,
   "id": "95fbf55f",
   "metadata": {},
   "outputs": [],
   "source": [
    "X_train, X_test, y_train, y_test = train_test_split(X,y, test_size=0.2, random_state=1)"
   ]
  },
  {
   "cell_type": "markdown",
   "id": "3efe5c46",
   "metadata": {},
   "source": [
    "## Columns for OneHotEncoding"
   ]
  },
  {
   "cell_type": "code",
   "execution_count": 38,
   "id": "e6bf880a",
   "metadata": {},
   "outputs": [],
   "source": [
    "from sklearn.preprocessing import OneHotEncoder, OrdinalEncoder\n",
    "from sklearn.compose import ColumnTransformer"
   ]
  },
  {
   "cell_type": "code",
   "execution_count": 39,
   "id": "77c10e63",
   "metadata": {},
   "outputs": [],
   "source": [
    "trf1 = ColumnTransformer([\n",
    "    ('OHE', OneHotEncoder(sparse=False),[0,1,2,4,5,6,7,8,10,12,19,20,21])\n",
    "],remainder=\"passthrough\")"
   ]
  },
  {
   "cell_type": "markdown",
   "id": "634fe08d",
   "metadata": {},
   "source": [
    "## Model Building Using RandomForestClassifier"
   ]
  },
  {
   "cell_type": "code",
   "execution_count": 40,
   "id": "156b0bc8",
   "metadata": {},
   "outputs": [],
   "source": [
    "from sklearn.ensemble import RandomForestClassifier\n",
    "from sklearn.pipeline import Pipeline"
   ]
  },
  {
   "cell_type": "code",
   "execution_count": 41,
   "id": "9b2a8339",
   "metadata": {},
   "outputs": [],
   "source": [
    "RF = RandomForestClassifier(n_estimators=650, max_depth=25, random_state=1)\n",
    "\n",
    "pipe = Pipeline([\n",
    "    ('trf1',trf1),\n",
    "    ('RF',RF)\n",
    "])\n",
    "\n",
    "pipe.fit(X_train,y_train)\n",
    "\n",
    "y_pred = pipe.predict(X_test)"
   ]
  },
  {
   "cell_type": "markdown",
   "id": "3d0f49f5",
   "metadata": {},
   "source": [
    "# sklearn.metrics.confusion_matrix"
   ]
  },
  {
   "cell_type": "code",
   "execution_count": 42,
   "id": "b6f52121",
   "metadata": {},
   "outputs": [],
   "source": [
    "from sklearn.metrics import confusion_matrix, accuracy_score"
   ]
  },
  {
   "cell_type": "code",
   "execution_count": 43,
   "id": "41fae7ef",
   "metadata": {},
   "outputs": [
    {
     "data": {
      "text/plain": [
       "array([[232,   4],\n",
       "       [ 24,  34]], dtype=int64)"
      ]
     },
     "execution_count": 43,
     "metadata": {},
     "output_type": "execute_result"
    }
   ],
   "source": [
    "confusion_matrix(y_test, y_pred)"
   ]
  },
  {
   "cell_type": "code",
   "execution_count": 44,
   "id": "dcd6218b",
   "metadata": {},
   "outputs": [
    {
     "data": {
      "text/plain": [
       "(294, 22)"
      ]
     },
     "execution_count": 44,
     "metadata": {},
     "output_type": "execute_result"
    }
   ],
   "source": [
    "X_test.shape"
   ]
  },
  {
   "cell_type": "markdown",
   "id": "4fdea206",
   "metadata": {},
   "source": [
    "## Accuracy Score"
   ]
  },
  {
   "cell_type": "code",
   "execution_count": 45,
   "id": "e82eabd3",
   "metadata": {},
   "outputs": [
    {
     "name": "stdout",
     "output_type": "stream",
     "text": [
      "90.47619047619048\n"
     ]
    }
   ],
   "source": [
    "print(accuracy_score(y_test,y_pred) * 100)"
   ]
  },
  {
   "cell_type": "code",
   "execution_count": null,
   "id": "94cdcddf",
   "metadata": {},
   "outputs": [],
   "source": []
  }
 ],
 "metadata": {
  "kernelspec": {
   "display_name": "Python 3",
   "language": "python",
   "name": "python3"
  },
  "language_info": {
   "codemirror_mode": {
    "name": "ipython",
    "version": 3
   },
   "file_extension": ".py",
   "mimetype": "text/x-python",
   "name": "python",
   "nbconvert_exporter": "python",
   "pygments_lexer": "ipython3",
   "version": "3.8.8"
  }
 },
 "nbformat": 4,
 "nbformat_minor": 5
}
